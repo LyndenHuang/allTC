{
 "cells": [
  {
   "cell_type": "code",
   "execution_count": 2,
   "id": "624a5346-65f6-4f60-976c-255d55e487b5",
   "metadata": {},
   "outputs": [],
   "source": [
    "#### import packages ####\n",
    "import os\n",
    "import ipywidgets as widgets\n",
    "from ipywidgets import Label, HBox, VBox\n",
    "from ipyfilechooser import FileChooser\n",
    "\n",
    "#### import MY packages ####\n",
    "from parsers import RHSCETparser\n",
    "from setups import MetalDensity\n",
    "from setups import utilities\n",
    "from setups import UIdisplay\n",
    "\n",
    "style = {\"description_width\": \"initial\"}"
   ]
  },
  {
   "cell_type": "markdown",
   "id": "7ec1a625-3735-4f53-9e1c-64efc996e653",
   "metadata": {},
   "source": [
    "## UT1. Original Extracted Metal Density Format Exchange ##\n",
    "1. The original metal density is provided from YW's utility\n",
    "2. Create layer-mapping file, align the layer name with Totem-EM techfile\n",
    "3. Translate the original metal density file to Lynden's utility format\n",
    "\n",
    "### format comparsion ###\n",
    "Original extracted metal density format:\\\n",
    "llx,lly,urx,ury,layer,metal_density(%)\n",
    "\n",
    "Lynden's utility format:\\\n",
    "<METAL/VIA/Metal_global/Via_global>,llx,lly,urx,ury,metal_density(%)"
   ]
  },
  {
   "cell_type": "code",
   "execution_count": 16,
   "id": "a569d307-1c51-433f-8366-a370f034f11f",
   "metadata": {},
   "outputs": [
    {
     "data": {
      "application/vnd.jupyter.widget-view+json": {
       "model_id": "c5c2ab467e524a2c9a10f8aaff69ee21",
       "version_major": 2,
       "version_minor": 0
      },
      "text/plain": [
       "VBox(children=(HBox(children=(Label(value='Select Original Metal Density File:'), FileChooser(path='C:\\Users\\c…"
      ]
     },
     "execution_count": 16,
     "metadata": {},
     "output_type": "execute_result"
    }
   ],
   "source": [
    "### Create CASE folder for power/thermal analysis ###\n",
    "#CASE = widgets.Text(value=\"TEST\", description=\"CASE Name:\", style=style, disabled=False)\n",
    "\n",
    "### MDfile format: llx,lly,urx,ury,layer,metal_density(%) ###\n",
    "MDPath_org = FileChooser(\"./\")   ### power file generated from FC\n",
    "totemPath = FileChooser(\"./\")\n",
    "layermapPath = FileChooser(\"./\")\n",
    "\n",
    "#PWType = widgets.RadioButtons(options=[\"IPF\",\"CSV\",\"TILE\"], description=\"Power file type\", disabled=False)\n",
    "\n",
    "HB1 = HBox([Label(\"Select Original Metal Density File:\"), MDPath_org])\n",
    "HB2 = HBox([Label(\"Select Totem-EM File:\"), totemPath])\n",
    "HB3 = HBox([Label(\"Select Layer Mapping File:\"), layermapPath])\n",
    "VBox([HB1, HB2, HB3])"
   ]
  },
  {
   "cell_type": "code",
   "execution_count": 17,
   "id": "1aaf5cc6-fa75-45c4-aa97-66c49438f626",
   "metadata": {},
   "outputs": [
    {
     "name": "stdout",
     "output_type": "stream",
     "text": [
      "C:\\Users\\chienchi\\OneDrive - Intel Corporation\\Documents\\PyCodes\\Thermal\\RHSC_ET\\DB\\tech\\fake1P11M_BS4Mi.tech Parsing...\n",
      "[['BM4'], ['BV3'], ['BM3'], ['BV2'], ['BM2'], ['BV1'], ['BM1'], ['BV0'], ['BM0'], ['TSV'], ['POD', 'NOD'], ['NPTAB'], ['M0'], ['VIA0'], ['M1'], ['VIA1'], ['M2'], ['VIA2'], ['M3'], ['VIA3'], ['M4'], ['VIA4'], ['M5'], ['VIA5'], ['M6'], ['VIA6'], ['M7'], ['VIA7'], ['M8'], ['VIA8'], ['M9'], ['VIA9'], ['M10'], ['VIA10'], ['M11']]\n"
     ]
    }
   ],
   "source": [
    "import importlib\n",
    "importlib.reload(MetalDensity)\n",
    "\n",
    "### Translate to format: layer,llx,lly,urx,ury,Metal_density(%) ###\n",
    "### default save to: outputFolder=\"./\", outputName=\"metal_density.setup\" ###\n",
    "MetalDensity.translate2MDSetup(givenMD=MDPath_org.selected, totemPath=totemPath.selected, layermapPath=layermapPath.selected)"
   ]
  },
  {
   "cell_type": "code",
   "execution_count": 45,
   "id": "a5d3a7b4-cdf7-4b7d-bb92-d8ce543cb853",
   "metadata": {},
   "outputs": [
    {
     "data": {
      "application/vnd.jupyter.widget-view+json": {
       "model_id": "74342e838d7045188f47f3c345b04635",
       "version_major": 2,
       "version_minor": 0
      },
      "text/plain": [
       "VBox(children=(HBox(children=(Label(value='Select Metal Density Setup:'), FileChooser(path='C:\\Users\\chienchi\\…"
      ]
     },
     "execution_count": 45,
     "metadata": {},
     "output_type": "execute_result"
    }
   ],
   "source": [
    "MDPath_forET = FileChooser(\"./\")   ### metal density setup file ###\n",
    "totemPath = FileChooser(\"./\")\n",
    "layermapPath = FileChooser(\"./\")\n",
    "\n",
    "HB1 = HBox([Label(\"Select Metal Density Setup:\"), MDPath_forET])\n",
    "HB2 = HBox([Label(\"Select Totem-EM File:\"), totemPath])\n",
    "HB3 = HBox([Label(\"Select Layer Mapping File:\"), layermapPath])\n",
    "\n",
    "llx = widgets.FloatText(value=0.0, description=\"LLX\", disabled=False)\n",
    "lly = widgets.FloatText(value=0.0, description=\"LLY\", disabled=False)\n",
    "urx = widgets.FloatText(value=0.0, description=\"URX\", disabled=False)\n",
    "ury = widgets.FloatText(value=0.0, description=\"URY\", disabled=False)\n",
    "HB4 = HBox([llx, lly, urx, ury])\n",
    "VBox([HB1, HB2, HB3, Label(\"Design Area:\"), HB4])"
   ]
  },
  {
   "cell_type": "code",
   "execution_count": 48,
   "id": "4c4a69e2-55d4-4927-921a-82ec1ba2b384",
   "metadata": {},
   "outputs": [
    {
     "name": "stdout",
     "output_type": "stream",
     "text": [
      "C:\\Users\\chienchi\\OneDrive - Intel Corporation\\Documents\\PyCodes\\Thermal\\RHSC_ET\\DB\\tech\\fake1P11M_BS4Mi.tech Parsing...\n",
      "[['BM4'], ['BV3'], ['BM3'], ['BV2'], ['BM2'], ['BV1'], ['BM1'], ['BV0'], ['BM0'], ['TSV'], ['POD', 'NOD'], ['NPTAB'], ['M0'], ['VIA0'], ['M1'], ['VIA1'], ['M2'], ['VIA2'], ['M3'], ['VIA3'], ['M4'], ['VIA4'], ['M5'], ['VIA5'], ['M6'], ['VIA6'], ['M7'], ['VIA7'], ['M8'], ['VIA8'], ['M9'], ['VIA9'], ['M10'], ['VIA10'], ['M11']]\n"
     ]
    }
   ],
   "source": [
    "import importlib\n",
    "importlib.reload(MetalDensity)\n",
    "\n",
    "designArea = [llx.value, lly.value, urx.value, ury.value]\n",
    "\n",
    "### Translate to ET Metal Density format ###\n",
    "### default save to: outputFolder=\"./\", ETMDName=\"density.csv\" ###\n",
    "MetalDensity.loadMetalDensitySetup(totemPath=totemPath.selected, MDPath=MDPath_forET.selected, \n",
    "                                   layermapPath=layermapPath.selected, area=designArea)"
   ]
  },
  {
   "cell_type": "markdown",
   "id": "793b825e-7fb0-417e-9337-754488d706c2",
   "metadata": {},
   "source": [
    "## UT2. ET Metal Density Setup Tools ##\n",
    "Add metal density to the specified areas (load power IPF to get the cell coordinates)"
   ]
  },
  {
   "cell_type": "code",
   "execution_count": 3,
   "id": "a7521caa-cb8b-4cfb-a86b-58a2eb4b33c0",
   "metadata": {},
   "outputs": [
    {
     "data": {
      "application/vnd.jupyter.widget-view+json": {
       "model_id": "6e5bf3a9c3254add885e6193ed22ab38",
       "version_major": 2,
       "version_minor": 0
      },
      "text/plain": [
       "HBox(children=(Label(value='Select Totem-EM File:'), FileChooser(path='C:\\Users\\chienchi\\OneDrive - Intel Corp…"
      ]
     },
     "execution_count": 3,
     "metadata": {},
     "output_type": "execute_result"
    }
   ],
   "source": [
    "### Load the Totem-EM ###\n",
    "\n",
    "totemPath2_1 = FileChooser(\"./\")\n",
    "HBox([Label(\"Select Totem-EM File:\"), totemPath2_1])"
   ]
  },
  {
   "cell_type": "code",
   "execution_count": 9,
   "id": "48fd80be-dd00-49ac-8701-a4de2667144a",
   "metadata": {},
   "outputs": [
    {
     "name": "stdout",
     "output_type": "stream",
     "text": [
      "C:\\Users\\chienchi\\OneDrive - Intel Corporation\\Documents\\PyCodes\\Thermal\\RHSC_ET\\DB\\tech\\fake1P11M_BS4Mi.tech Parsing...\n",
      "All layers: [['BM4'], ['BV3'], ['BM3'], ['BV2'], ['BM2'], ['BV1'], ['BM1'], ['BV0'], ['BM0'], ['TSV'], ['POD', 'NOD'], ['NPTAB'], ['M0'], ['VIA0'], ['M1'], ['VIA1'], ['M2'], ['VIA2'], ['M3'], ['VIA3'], ['M4'], ['VIA4'], ['M5'], ['VIA5'], ['M6'], ['VIA6'], ['M7'], ['VIA7'], ['M8'], ['VIA8'], ['M9'], ['VIA9'], ['M10'], ['VIA10'], ['M11']]\n",
      "['BM4', 'BV3', 'BM3', 'BV2', 'BM2', 'BV1', 'BM1', 'BV0', 'BM0', 'TSV', 'POD', 'NOD', 'NPTAB', 'M0', 'VIA0', 'M1', 'VIA1', 'M2', 'VIA2', 'M3', 'VIA3', 'M4', 'VIA4', 'M5', 'VIA5', 'M6', 'VIA6', 'M7', 'VIA7', 'M8', 'VIA8', 'M9', 'VIA9', 'M10', 'VIA10', 'M11']\n"
     ]
    }
   ],
   "source": [
    "import importlib\n",
    "from setups import FakeTotemGen\n",
    "importlib.reload(FakeTotemGen)\n",
    "\n",
    "totemTF = None\n",
    "if os.path.isfile(totemPath2_1.selected):\n",
    "    totemTF = FakeTotemGen.parseTotemTF(totemPath2_1.selected)\n",
    "    totemTF.parsing()\n",
    "    totemTF.makeStacking()\n",
    "\n",
    "if totemTF:\n",
    "    print(\"All layers: {}\".format(totemTF.stacking))\n",
    "else:\n",
    "    print(\"<ERROR> Totem-EM is un-defined\")\n",
    "\n",
    "layerStack = \",\".join([\",\".join(l) for l in totemTF.stacking])\n",
    "layerStack = layerStack.split(\",\")"
   ]
  },
  {
   "cell_type": "code",
   "execution_count": 19,
   "id": "a0d3a3df-fa43-4004-b900-466189ca0cb3",
   "metadata": {},
   "outputs": [
    {
     "data": {
      "application/vnd.jupyter.widget-view+json": {
       "model_id": "c3bdbf06b0b042169e7dc9c838b50137",
       "version_major": 2,
       "version_minor": 0
      },
      "text/plain": [
       "VBox(children=(VBox(children=(Label(value='Global Metal Density Setup'), HBox(children=(Dropdown(description='…"
      ]
     },
     "metadata": {},
     "output_type": "display_data"
    }
   ],
   "source": [
    "import importlib\n",
    "importlib.reload(UIdisplay)\n",
    "\n",
    "GlobalMDList, LayerMDList = [], []\n",
    "ui = UIdisplay.setupMetalDensityArea(GlobalMDList, LayerMDList, layerStack)\n",
    "display(ui)"
   ]
  },
  {
   "cell_type": "markdown",
   "id": "67cdc6b8-39ff-4996-bda8-6b67d6fed12a",
   "metadata": {},
   "source": [
    "### Optional: Based on the specified cell area to setup metal density ###"
   ]
  },
  {
   "cell_type": "code",
   "execution_count": 12,
   "id": "4aa6b1c3-d576-46ce-859f-5b4279d167df",
   "metadata": {},
   "outputs": [
    {
     "data": {
      "application/vnd.jupyter.widget-view+json": {
       "model_id": "40945feb6a7c412dbb158a2dc99def47",
       "version_major": 2,
       "version_minor": 0
      },
      "text/plain": [
       "HBox(children=(Label(value='Select Power File'), FileChooser(path='C:\\Users\\chienchi\\OneDrive - Intel Corporat…"
      ]
     },
     "execution_count": 12,
     "metadata": {},
     "output_type": "execute_result"
    }
   ],
   "source": [
    "cellIPF = FileChooser(\"./\")\n",
    "PWType = widgets.RadioButtons(options=[\"CSV\"], description=\"Power file type\", disabled=False)\n",
    "\n",
    "HBox([Label(\"Select Power File\"), cellIPF, PWType])"
   ]
  },
  {
   "cell_type": "code",
   "execution_count": 26,
   "id": "0b2db6c2-9954-4578-9622-785ddcfdb5d4",
   "metadata": {},
   "outputs": [
    {
     "name": "stdout",
     "output_type": "stream",
     "text": [
      "<INFO> Instances Area:26.64,33.08,99.26,105.52; Total PWR=9.302mW\n"
     ]
    },
    {
     "data": {
      "application/vnd.jupyter.widget-view+json": {
       "model_id": "9fd036d452cb4f2fabaf73f05422f0c4",
       "version_major": 2,
       "version_minor": 0
      },
      "text/plain": [
       "VBox(children=(Label(value='Cell Metal Density setup'), Dropdown(description='Cell List:', options=('i0maoi302…"
      ]
     },
     "metadata": {},
     "output_type": "display_data"
    }
   ],
   "source": [
    "from setups import FCpowermap\n",
    "\n",
    "import importlib\n",
    "importlib.reload(FCpowermap)\n",
    "importlib.reload(UIdisplay)\n",
    "\n",
    "### setup cell metal density ###\n",
    "cellPWRView = FCpowermap.FCPowerView(cellIPF.selected, PWType.value, DesignArea=[])\n",
    "\n",
    "#print(cellPWRView.cellDict.keys())\n",
    "ui = UIdisplay.setupMetalDensitybyGivenCellIPF(GlobalMDList, LayerMDList, layerStack, cellList=cellPWRView.cellDict.keys(), FCObject=cellPWRView)\n",
    "display(ui)"
   ]
  },
  {
   "cell_type": "markdown",
   "id": "dc04f03d-e91f-4c0a-914d-0a9364c8cfaf",
   "metadata": {},
   "source": [
    "### Generate metal density setup file ###"
   ]
  },
  {
   "cell_type": "code",
   "execution_count": 27,
   "id": "a6a9d825-76fe-493d-8026-3b356b7dccfe",
   "metadata": {},
   "outputs": [],
   "source": [
    "import importlib\n",
    "importlib.reload(MetalDensity)\n",
    "\n",
    "MDSetup = list(set(GlobalMDList)) + list(set(LayerMDList))\n",
    "MetalDensity.save2MetalDensitySetup(MDList=MDSetup)"
   ]
  },
  {
   "cell_type": "code",
   "execution_count": null,
   "id": "21741062-d3b7-40c6-8ab9-03888ad25fb1",
   "metadata": {},
   "outputs": [],
   "source": [
    "MDSetup2_1 = FileChooser(\"./\")\n",
    "layermapPath2_1 = FileChooser(\"./\")\n",
    "\n",
    "HB2_2 = HBox([Label(\"Select Metal Density Setup:\"), MDSetup2_1])\n",
    "HB2_3 = HBox([Label(\"Select Layer Mapping File:\"), layermapPath2_1])\n",
    "\n",
    "llx2_1 = widgets.FloatText(value=0.0, description=\"LLX\", disabled=False)\n",
    "lly2_1 = widgets.FloatText(value=0.0, description=\"LLY\", disabled=False)\n",
    "urx2_1 = widgets.FloatText(value=0.0, description=\"URX\", disabled=False)\n",
    "ury2_1 = widgets.FloatText(value=0.0, description=\"URY\", disabled=False)\n",
    "HB2_4 = HBox([llx2_1, lly2_1, urx2_1, ury2_1])\n",
    "\n",
    "VBox([HB2_2, HB2_3, Label(\"Design Area:\"), HB2_4])"
   ]
  },
  {
   "cell_type": "code",
   "execution_count": null,
   "id": "c29e0907-1f0b-469b-8673-2bfe01c213b0",
   "metadata": {},
   "outputs": [],
   "source": [
    "import importlib\n",
    "importlib.reload(MetalDensity)\n",
    "\n",
    "designArea2_1 = [llx2_1.value, lly2_1.value, urx2_1.value, ury2_1.value]\n",
    "\n",
    "### Translate to ET Metal Density format ###\n",
    "### default save to: outputFolder=\"./\", ETMDName=\"density.csv\" ###\n",
    "MetalDensity.loadMetalDensitySetup(totemPath=totemPath2_1.selected, MDPath=MDSetup2_1.selected, \n",
    "                                   layermapPath=layermapPath2_1.selected, area=designArea2_1)"
   ]
  },
  {
   "cell_type": "markdown",
   "id": "bba6fbe9-8dc5-45a8-a46d-321a8f2df981",
   "metadata": {},
   "source": [
    "## UT3. ##"
   ]
  },
  {
   "cell_type": "code",
   "execution_count": 3,
   "id": "a978cb15-8fc9-4da2-a19b-dcfccf46aa0a",
   "metadata": {},
   "outputs": [],
   "source": [
    "root = os.path.join(os.getcwd(), \"CASEs\")\n",
    "caseFolder = utilities.createCASE(root, CASE.value)"
   ]
  },
  {
   "cell_type": "code",
   "execution_count": 10,
   "id": "cccbf054-f4fc-4471-9bdf-dea2ee1b8dc5",
   "metadata": {},
   "outputs": [
    {
     "name": "stdout",
     "output_type": "stream",
     "text": [
      "<INFO> Instances Area:30.49,42.62,102.06,113.08; Total PWR=18.409mW\n"
     ]
    },
    {
     "data": {
      "application/vnd.jupyter.widget-view+json": {
       "model_id": "075074d77d17400ea68a909260bcd2e6",
       "version_major": 2,
       "version_minor": 0
      },
      "text/plain": [
       "VBox(children=(IntText(value=5, description='Tile Resolution(um):', style=DescriptionStyle(description_width='…"
      ]
     },
     "execution_count": 10,
     "metadata": {},
     "output_type": "execute_result"
    }
   ],
   "source": [
    "import importlib\n",
    "importlib.reload(FCpowermap)\n",
    "\n",
    "designArea = []\n",
    "try:\n",
    "    if isManually.value in [\"True\"]:\n",
    "        designArea = [llx.value, lly.value, urx.value, ury.value]\n",
    "except:\n",
    "    pass\n",
    "\n",
    "FCpwrView = FCpowermap.FCPowerView(PWfc.selected, PWType.value, DesignArea=designArea)\n",
    "\n",
    "#cells = [\"i0mfvp803mc1q03x5\",\"i0mfuz443aa1q06x5\",\"i0mfuz803mc1q06x5\",\"i0moai013ab1n09x5\",\"i0moai013ac1d12x5\"]\n",
    "#cells = [\"i0mfuz443aa1q06x5\"] #[\"i0maoi302aa1d09x5\"] #[\"i0mfuz443aa1q06x5\"]\n",
    "#FCpwrView.modifyCSV(modifyCells=cells, pwrFactor=50)\n",
    "#FCpwrView.modifyCSV(modifyCells=\"ALL\", pwrFactor=0.000001)\n",
    "\n",
    "resolution = widgets.IntText(value=5, description=\"Tile Resolution(um):\", style=style, disabled=False)\n",
    "topN = widgets.IntText(value=10, description=\"Top-N High Power Tiles:\", style=style, disabled=False)\n",
    "VBox([resolution, topN])"
   ]
  },
  {
   "cell_type": "code",
   "execution_count": 21,
   "id": "b7f8bb9b-40ae-47c3-b89b-09d906baa6c4",
   "metadata": {},
   "outputs": [
    {
     "data": {
      "application/vnd.jupyter.widget-view+json": {
       "model_id": "3bd1e604f45b46048bcd38c0d2f6eef1",
       "version_major": 2,
       "version_minor": 0
      },
      "text/plain": [
       "VBox(children=(Label(value='Select candidated cells'), HBox(children=(Dropdown(description='Cells:', options=(…"
      ]
     },
     "metadata": {},
     "output_type": "display_data"
    }
   ],
   "source": [
    "import importlib\n",
    "importlib.reload(UIdisplay)\n",
    "\n",
    "FCpwrView.translate2TilePwr(resolution=resolution.value)\n",
    "candidatedCells = FCpwrView.TilePwrAnalysis(resolution=resolution.value, topN=topN.value)\n",
    "\n",
    "### select the candidated cells, droplist: \"cell,contributed_power_in_ratio\" ###\n",
    "droplist = []\n",
    "for c in candidatedCells:\n",
    "    _str = \"{}, {}%\".format(c[0], c[2])\n",
    "    droplist.append(_str)\n",
    "\n",
    "dumpCells = []\n",
    "out = UIdisplay.askDropItems2Processing(\"Select candidated cells\", droplist, dumpCells, dropLabel=\"Cells:\")\n",
    "display(out)"
   ]
  },
  {
   "cell_type": "code",
   "execution_count": 12,
   "id": "8c8c1cf0-abcc-494a-8774-40ff67d8bce1",
   "metadata": {},
   "outputs": [
    {
     "data": {
      "application/vnd.jupyter.widget-view+json": {
       "model_id": "a7479d8c0c074038877d95f5a66841cb",
       "version_major": 2,
       "version_minor": 0
      },
      "text/plain": [
       "VBox(children=(GridspecLayout(children=(FloatText(value=0.0, description='05-1', layout=Layout(grid_area='widg…"
      ]
     },
     "execution_count": 12,
     "metadata": {},
     "output_type": "execute_result"
    }
   ],
   "source": [
    "import importlib\n",
    "importlib.reload(UIdisplay)\n",
    "\n",
    "XX, YY = 10, 5\n",
    "grid = UIdisplay.createArrayPanel(XX, YY)\n",
    "TSize = widgets.IntText(value=5, description=\"Tile Size(um):\", style=style, disabled=False)\n",
    "VBox([grid, TSize])"
   ]
  },
  {
   "cell_type": "code",
   "execution_count": 29,
   "id": "485dd310-4859-410e-9a9f-cc6d652b57b7",
   "metadata": {},
   "outputs": [
    {
     "data": {
      "text/plain": [
       "8.0"
      ]
     },
     "execution_count": 29,
     "metadata": {},
     "output_type": "execute_result"
    }
   ],
   "source": [
    "grid[2, 4].value"
   ]
  },
  {
   "cell_type": "code",
   "execution_count": 18,
   "id": "3400c261-7b68-48db-95cc-9c7e4a0c8168",
   "metadata": {},
   "outputs": [
    {
     "name": "stdout",
     "output_type": "stream",
     "text": [
      "BBOX: (0.0,0.0)-(100,50), Total Power: 25.502 mW\n"
     ]
    },
    {
     "data": {
      "text/plain": [
       "([0.0, 0.0, 100, 50], './tileIPF.csv')"
      ]
     },
     "execution_count": 18,
     "metadata": {},
     "output_type": "execute_result"
    }
   ],
   "source": [
    "import importlib\n",
    "importlib.reload(UIdisplay)\n",
    "\n",
    "UIdisplay.ArrayPanel2TileIPF(XX, YY, TSize.value, grid)"
   ]
  },
  {
   "cell_type": "code",
   "execution_count": null,
   "id": "e2fb9512-b06d-47f6-9eb1-e45f5188b222",
   "metadata": {},
   "outputs": [],
   "source": []
  }
 ],
 "metadata": {
  "kernelspec": {
   "display_name": "Python 3 (ipykernel)",
   "language": "python",
   "name": "python3"
  },
  "language_info": {
   "codemirror_mode": {
    "name": "ipython",
    "version": 3
   },
   "file_extension": ".py",
   "mimetype": "text/x-python",
   "name": "python",
   "nbconvert_exporter": "python",
   "pygments_lexer": "ipython3",
   "version": "3.8.18"
  }
 },
 "nbformat": 4,
 "nbformat_minor": 5
}
