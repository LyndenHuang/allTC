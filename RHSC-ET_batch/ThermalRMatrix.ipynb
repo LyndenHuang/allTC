{
 "cells": [
  {
   "cell_type": "code",
   "execution_count": 1,
   "id": "7c3f1bce-d907-4214-bf97-05a369df802a",
   "metadata": {},
   "outputs": [],
   "source": [
    "#### import packages ####\n",
    "import os\n",
    "import ipywidgets as widgets\n",
    "from ipywidgets import Label, HBox, VBox\n",
    "from ipyfilechooser import FileChooser\n",
    "\n",
    "#### import MY packages ####\n",
    "from thermalPlacement import tPlacement\n",
    "from setups import FCpowermap\n",
    "from setups import utilities\n",
    "\n",
    "style = {\"description_width\": \"initial\"}"
   ]
  },
  {
   "cell_type": "code",
   "execution_count": 2,
   "id": "1df3d322-d3ff-4e91-a391-5f53891839cc",
   "metadata": {},
   "outputs": [
    {
     "data": {
      "application/vnd.jupyter.widget-view+json": {
       "model_id": "0b870a0f52f64bbfb66953ef60ec1495",
       "version_major": 2,
       "version_minor": 0
      },
      "text/plain": [
       "VBox(children=(Text(value='RMatrix', description='CASE Name:'), IntText(value=0, description='TileX:'), IntTex…"
      ]
     },
     "execution_count": 2,
     "metadata": {},
     "output_type": "execute_result"
    }
   ],
   "source": [
    "CASE = widgets.Text(value=\"RMatrix\", description=\"CASE Name:\", disabled=False)\n",
    "TileX = widgets.IntText(value=0, description=\"TileX:\", disabled=False)\n",
    "TileY = widgets.IntText(value=0, description=\"TileY:\", disabled=False)\n",
    "VBox([CASE, TileX, TileY])"
   ]
  },
  {
   "cell_type": "code",
   "execution_count": 3,
   "id": "809e45b6-b42d-49be-a244-a72da9e19f9f",
   "metadata": {},
   "outputs": [],
   "source": [
    "### Create case in CASEs folder base on CASE Name ###\n",
    "import importlib\n",
    "importlib.reload(tPlacement)\n",
    "caseFolder = utilities.createCASE(os.getcwd(), CASE.value, subFolders=[])\n",
    "\n",
    "## Create thermalRMatrix object ##\n",
    "RM = tPlacement.thermalRMatrix(TileX.value, TileY.value, outputFolder=caseFolder)"
   ]
  },
  {
   "cell_type": "code",
   "execution_count": 4,
   "id": "5e01ad58-0288-4759-a17f-603f41c8f65a",
   "metadata": {},
   "outputs": [
    {
     "data": {
      "application/vnd.jupyter.widget-view+json": {
       "model_id": "7879f9cea09e44a2b12bd2f755b3fc6d",
       "version_major": 2,
       "version_minor": 0
      },
      "text/plain": [
       "VBox(children=(HBox(children=(Label(value='Select Resistance Mapping Conf.:'), FileChooser(path='/nfs/site/dis…"
      ]
     },
     "execution_count": 4,
     "metadata": {},
     "output_type": "execute_result"
    }
   ],
   "source": [
    "RConf = FileChooser(\"./\")\n",
    "\n",
    "HB1 = HBox([Label(\"Select Resistance Mapping Conf.:\"), RConf])\n",
    "VBox([HB1])"
   ]
  },
  {
   "cell_type": "code",
   "execution_count": 5,
   "id": "c95e1937-8fc7-4800-a421-c4daf25e2c7e",
   "metadata": {},
   "outputs": [],
   "source": [
    "### construct Thermal Resistance Matrix ###\n",
    "import importlib\n",
    "importlib.reload(tPlacement)\n",
    "\n",
    "RM.loadRMappingFile(RConf.selected)"
   ]
  },
  {
   "cell_type": "code",
   "execution_count": 6,
   "id": "7d4a7052-63d1-4ba7-be53-b5ac16ff8017",
   "metadata": {},
   "outputs": [
    {
     "name": "stdout",
     "output_type": "stream",
     "text": [
      "<INFO> output matrix data to /nfs/site/disks/ifs_itip_disk001/cchuang/Thermal/RUN_env/RHSC_ET_Batch_v01/RMatrix_7_7/RMatrix.csv\n"
     ]
    }
   ],
   "source": [
    "RM.constructRMatrix()"
   ]
  },
  {
   "cell_type": "markdown",
   "id": "f15d6440-96cf-4fc2-b558-811531cccb37",
   "metadata": {},
   "source": [
    "## Load Power Map ##"
   ]
  },
  {
   "cell_type": "code",
   "execution_count": 7,
   "id": "106c2dbc-e0c4-4292-8cb8-82aebc3fd274",
   "metadata": {},
   "outputs": [
    {
     "data": {
      "application/vnd.jupyter.widget-view+json": {
       "model_id": "d5ef859e3d24487588ae4810c78501f9",
       "version_major": 2,
       "version_minor": 0
      },
      "text/plain": [
       "VBox(children=(HBox(children=(Label(value='Select Power File'), FileChooser(path='/nfs/site/disks/ifs_itip_dis…"
      ]
     },
     "execution_count": 7,
     "metadata": {},
     "output_type": "execute_result"
    }
   ],
   "source": [
    "PWfc = FileChooser(\"./\")   ### power file generated from FC\n",
    "PWType = widgets.RadioButtons(options=[\"IPF\",\"CSV\",\"TILE\"], description=\"Power file type\", disabled=False)\n",
    "HBPW = HBox([Label(\"Select Power File\"), PWfc, PWType])\n",
    "VBox([HBPW])"
   ]
  },
  {
   "cell_type": "code",
   "execution_count": 8,
   "id": "44cefb73-4378-44aa-b555-ac8571efef1a",
   "metadata": {},
   "outputs": [
    {
     "data": {
      "application/vnd.jupyter.widget-view+json": {
       "model_id": "bc64d6424dc34cab8832e9c43b672725",
       "version_major": 2,
       "version_minor": 0
      },
      "text/plain": [
       "VBox(children=(Select(description='Design Area in Manually', index=1, options=('True', 'False'), value='False'…"
      ]
     },
     "execution_count": 8,
     "metadata": {},
     "output_type": "execute_result"
    }
   ],
   "source": [
    "### Optional: Manually given the design area ###\n",
    "isManually = widgets.Select(options=[\"True\", \"False\"], value=\"False\", description=\"Design Area in Manually\", disabled=False)\n",
    "llx = widgets.FloatText(value=0.0, description=\"LLX\", disabled=False)\n",
    "lly = widgets.FloatText(value=0.0, description=\"LLY\", disabled=False)\n",
    "urx = widgets.FloatText(value=0.0, description=\"URX\", disabled=False)\n",
    "ury = widgets.FloatText(value=0.0, description=\"URY\", disabled=False)\n",
    "HBArea = HBox([llx, lly, urx, ury])\n",
    "VBox([isManually, HBArea])"
   ]
  },
  {
   "cell_type": "code",
   "execution_count": 9,
   "id": "1c4816b7-98ac-447f-8145-a2a4912a3be5",
   "metadata": {},
   "outputs": [
    {
     "name": "stdout",
     "output_type": "stream",
     "text": [
      "Design Area: [0.0, 0.0, 220.0, 210.0]\n",
      "<INFO> Instances Area:3.175,0.96,210.9,204.24; Total PWR=29.892mW\n"
     ]
    },
    {
     "data": {
      "application/vnd.jupyter.widget-view+json": {
       "model_id": "c9ebaafa01d4427da4972b68081873d3",
       "version_major": 2,
       "version_minor": 0
      },
      "text/plain": [
       "VBox(children=(IntText(value=5, description='Tile Resolution(um):', style=DescriptionStyle(description_width='…"
      ]
     },
     "execution_count": 9,
     "metadata": {},
     "output_type": "execute_result"
    }
   ],
   "source": [
    "### Exam Power Map ###\n",
    "import importlib\n",
    "importlib.reload(FCpowermap)\n",
    "\n",
    "designArea = []\n",
    "try:\n",
    "    if isManually.value in [\"True\"]:\n",
    "        designArea = [llx.value, lly.value, urx.value, ury.value]\n",
    "except:\n",
    "    pass\n",
    "\n",
    "print(\"Design Area: {}\".format(designArea))\n",
    "FCpwrView = FCpowermap.FCPowerView(PWfc.selected, PWType.value, DesignArea=designArea)\n",
    "\n",
    "resolution = widgets.IntText(value=5, description=\"Tile Resolution(um):\", style=style, disabled=False)\n",
    "VBox([resolution])"
   ]
  },
  {
   "cell_type": "code",
   "execution_count": 10,
   "id": "db0177ec-aafa-46a4-a9ca-8f6363262c1f",
   "metadata": {},
   "outputs": [],
   "source": [
    "import importlib\n",
    "\n",
    "FCpwrView.translate2TilePwr(resolution=resolution.value)\n",
    "\n",
    "#print(FCpwrView.tileDict[resolution.value].keys())\n",
    "#print(FCpwrView.tileDictParams[resolution.value].keys())\n",
    "#print(FCpwrView.tileDict[resolution.value][\"0_1\"])\n",
    "#FCpwrView.plot(ptype=[\"TILE\", resolution.value], saveImg=\"TilePwr_{}um.png\".format(str(resolution.value)))"
   ]
  },
  {
   "cell_type": "code",
   "execution_count": 11,
   "id": "1f95736e-a8e4-4dd2-a2b0-f9dd498df46a",
   "metadata": {},
   "outputs": [
    {
     "name": "stdout",
     "output_type": "stream",
     "text": [
      "[0.14924513, 0.16910829, 0.14083637, 0.15705392, 0.1141681, 0.1576499, 0.05163029, 0.31868364, 0.2509771, 4.93598356, 1.42606275, 0.20891527, 0.15536398, 0.05187643, 0.45065132, 0.36375079, 2.67230004, 1.66280807, 1.22180336, 0.17278535, 0.04899982, 0.40523345, 0.23108094, 1.33058036, 1.40119058, 0.59523254, 0.17932054, 0.0578903, 0.45625274, 0.3232426, 3.59489002, 1.45920456, 0.69729786, 0.16107112, 0.05692275, 0.4264593, 0.3967518, 0.71105795, 1.0022833, 0.67745494, 0.17701426, 0.0455759, 0.08846967, 0.10184983, 0.12200521, 0.10378724, 0.07096693, 0.10392839, 0.03469081]\n",
      "<INFO> output power vector to /nfs/site/disks/ifs_itip_disk001/cchuang/Thermal/RUN_env/RHSC_ET_Batch_v01/RMatrix_7_7/PowerVector.txt\n",
      "<INFO> output T profile to /nfs/site/disks/ifs_itip_disk001/cchuang/Thermal/RUN_env/RHSC_ET_Batch_v01/RMatrix_7_7/TProfile.txt\n"
     ]
    }
   ],
   "source": [
    "import importlib\n",
    "importlib.reload(tPlacement)\n",
    "\n",
    "#RMtest = tPlacement.thermalRMatrix(TileX.value, TileY.value)\n",
    "RM.inputTilePower(FCpwrView, resolution=resolution.value)\n",
    "\n",
    "## output temperature profile ##\n",
    "RM.estiTProfile(TProfileName=\"TProfile.txt\")"
   ]
  },
  {
   "cell_type": "code",
   "execution_count": null,
   "id": "3de88d2d-9907-4f52-8f36-b0635d461191",
   "metadata": {},
   "outputs": [],
   "source": []
  },
  {
   "cell_type": "code",
   "execution_count": 15,
   "id": "87683d29-3f26-40e9-8d36-8a69941f8a28",
   "metadata": {},
   "outputs": [
    {
     "name": "stdout",
     "output_type": "stream",
     "text": [
      "<INFO> output target T profile to ./targetTProfile.txt\n"
     ]
    }
   ],
   "source": [
    "from thermalPlacement import tPlacement\n",
    "\n",
    "import importlib\n",
    "importlib.reload(tPlacement)\n",
    "\n",
    "RMt = tPlacement.thermalRMatrix(7, 7, outputFolder=\"./\")\n",
    "\n",
    "TProfile = \"./RMatrix_7_7/ThermalProfile_BD.txt\"\n",
    "RMt.loadResultTProfile(TProfile)"
   ]
  },
  {
   "cell_type": "code",
   "execution_count": null,
   "id": "395f8715-6529-4f5d-8327-0787064ea7e0",
   "metadata": {},
   "outputs": [],
   "source": []
  }
 ],
 "metadata": {
  "kernelspec": {
   "display_name": "Python 3 (ipykernel)",
   "language": "python",
   "name": "python3"
  },
  "language_info": {
   "codemirror_mode": {
    "name": "ipython",
    "version": 3
   },
   "file_extension": ".py",
   "mimetype": "text/x-python",
   "name": "python",
   "nbconvert_exporter": "python",
   "pygments_lexer": "ipython3",
   "version": "3.10.8"
  }
 },
 "nbformat": 4,
 "nbformat_minor": 5
}
