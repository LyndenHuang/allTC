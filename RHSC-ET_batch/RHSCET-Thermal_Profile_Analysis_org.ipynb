{
 "cells": [
  {
   "cell_type": "code",
   "execution_count": 1,
   "id": "95951c00-9cac-4a95-aaca-16ed2acfbeaa",
   "metadata": {},
   "outputs": [],
   "source": [
    "#### import packages ####\n",
    "import os\n",
    "import ipywidgets as widgets\n",
    "from ipywidgets import Label, HBox, VBox\n",
    "from ipyfilechooser import FileChooser\n",
    "\n",
    "#### import MY packages ####\n",
    "from parsers import RHSCETparser\n",
    "from setups import FCpowermap\n",
    "from setups import utilities\n",
    "from setups import UIdisplay"
   ]
  },
  {
   "cell_type": "code",
   "execution_count": 2,
   "id": "68f71778-8414-425a-aeee-1ff55313b0eb",
   "metadata": {},
   "outputs": [
    {
     "data": {
      "application/vnd.jupyter.widget-view+json": {
       "model_id": "11b2c31e1cc940bc9c94e07a1c9ac5a4",
       "version_major": 2,
       "version_minor": 0
      },
      "text/plain": [
       "Text(value='TEST', description='CASE Name')"
      ]
     },
     "metadata": {},
     "output_type": "display_data"
    }
   ],
   "source": [
    "### Create CASE ###\n",
    "CASE = widgets.Text(value=\"TEST\", description=\"CASE Name\", disabled=False)\n",
    "display(CASE)"
   ]
  },
  {
   "cell_type": "code",
   "execution_count": null,
   "id": "cd13821e-2174-4409-aaf6-482eb2e11166",
   "metadata": {},
   "outputs": [],
   "source": [
    "### Create case in CASEs folder base on CASE Name ###\n",
    "root = os.path.join(os.getcwd(), \"CASEs\")\n",
    "caseFolder = utilities.createCASE(root, CASE.value)"
   ]
  },
  {
   "cell_type": "code",
   "execution_count": 3,
   "id": "88c2ad96-8ecc-4c77-9e98-4ef8da64c521",
   "metadata": {},
   "outputs": [
    {
     "data": {
      "application/vnd.jupyter.widget-view+json": {
       "model_id": "f9374c27ddce44e1ae73c968308311b3",
       "version_major": 2,
       "version_minor": 0
      },
      "text/plain": [
       "IntText(value=1, description='#DIE:')"
      ]
     },
     "metadata": {},
     "output_type": "display_data"
    }
   ],
   "source": [
    "### How many DIEs need to process ###\n",
    "numDIEs = widgets.IntText(value=1, description=\"#DIE:\", disabled=False)\n",
    "display(numDIEs)"
   ]
  },
  {
   "cell_type": "code",
   "execution_count": 4,
   "id": "b7da7e69-c96f-4bd5-ac92-1fbe55b058a5",
   "metadata": {},
   "outputs": [
    {
     "data": {
      "application/vnd.jupyter.widget-view+json": {
       "model_id": "37c41e3da64c46b5b26fa4fdde439d89",
       "version_major": 2,
       "version_minor": 0
      },
      "text/plain": [
       "VBox(children=(HBox(children=(Text(value='DIE', description='DIE Name:'), IntText(value=1, description='CTM Re…"
      ]
     },
     "metadata": {},
     "output_type": "display_data"
    }
   ],
   "source": [
    "DIEDict = {}\n",
    "\n",
    "### select the thermal profiles ###\n",
    "for i in range(numDIEs.value):\n",
    "    DIEDict.setdefault(i, {\"name\":None, \"profilePath\":None})\n",
    "\n",
    "    DIEDict[i][\"name\"] = widgets.Text(value=\"DIE\", description=\"DIE Name:\", disabled=False)\n",
    "    DIEDict[i][\"resolution\"] = widgets.IntText(value=1, description=\"CTM Resolution:\", style={\"description_width\": \"initial\"}, disabled=False)\n",
    "    DIEDict[i][\"profilePath\"] = FileChooser(\"./\")\n",
    "    DIEDict[i][\"powermapPath\"] = FileChooser(\"./\")\n",
    "    _HB1 = HBox([DIEDict[i][\"name\"], DIEDict[i][\"resolution\"]])\n",
    "    _HB2 = HBox([Label(\"Thermal Profile :\"), DIEDict[i][\"profilePath\"]])\n",
    "    _HB3 = HBox([Label(\"ETMHS Power File:\"), DIEDict[i][\"powermapPath\"]])\n",
    "    display(VBox([_HB1, _HB2, _HB3]))"
   ]
  },
  {
   "cell_type": "code",
   "execution_count": 8,
   "id": "7b3ea6ba-6df8-4899-b711-c2321dca8e8b",
   "metadata": {},
   "outputs": [
    {
     "name": "stdout",
     "output_type": "stream",
     "text": [
      "DIE: DIE, Design Area: [-50.0, -25.0, 50.0, 25.0]\n",
      "Available Layers: ['BM4', 'BV3', 'BM3', 'BV2', 'BM2', 'BV1', 'BM1', 'BV0', 'BM0', 'TSV', 'POD', 'NOD', 'NPTAB', 'M0', 'VIA0', 'M1', 'VIA1', 'M2', 'VIA2', 'M3', 'VIA3', 'M4', 'VIA4', 'M5', 'VIA5', 'M6', 'VIA6', 'M7', 'VIA7', 'M8', 'VIA8', 'M9', 'VIA9', 'M10', 'VIA10', 'M11']\n",
      "Max T within DIE: 78.692\n",
      "Min T within DIE: 41.883\n"
     ]
    },
    {
     "data": {
      "application/vnd.jupyter.widget-view+json": {
       "model_id": "59db74fc98f34b2bb56c9657dd05fc87",
       "version_major": 2,
       "version_minor": 0
      },
      "text/plain": [
       "FloatText(value=85.0, description='T Upperbound:', style=DescriptionStyle(description_width='initial'))"
      ]
     },
     "metadata": {},
     "output_type": "display_data"
    }
   ],
   "source": [
    "import importlib\n",
    "importlib.reload(RHSCETparser)\n",
    "\n",
    "for i in DIEDict.keys():\n",
    "    profilePath = DIEDict[i][\"profilePath\"].selected\n",
    "    if os.path.isfile(profilePath):\n",
    "        DIEDict[i][\"RHSCET\"] = RHSCETparser.RHSCETView(profilePath)\n",
    "    else:\n",
    "        print(\"<ERROR> profile path not found\")\n",
    "\n",
    "    ### output DIE profile information ###\n",
    "    DIE = DIEDict[i][\"RHSCET\"]\n",
    "    print(\"DIE: {}, Design Area: {}\".format(DIEDict[i][\"name\"].value, [DIE.llx, DIE.lly, DIE.urx, DIE.ury]))\n",
    "    print(\"Available Layers: {}\".format(DIE.layerList))\n",
    "    print(\"Max T within DIE: {}\".format(DIE.DIEMaxT))\n",
    "    print(\"Min T within DIE: {}\".format(DIE.DIEMinT))\n",
    "\n",
    "T_Upperbound = widgets.FloatText(value=85.0, description=\"T Upperbound:\", \\\n",
    "                                 style={\"description_width\": \"initial\"}, disabled=False)\n",
    "display(T_Upperbound)\n",
    "#hots = TD1.getTopNHotSpots(selectedLayer=\"NPTAB\")\n",
    "#TD1.plot(selectedLayer=\"NPTAB\", max_val=59.1, min_val=58, highlighted=hots, saveImg=\"MEOL.png\")\n",
    "#TD1.plot(selectedLayer=\"BM4\", max_val=78, min_val=60, saveImg=\"M1.png\")"
   ]
  },
  {
   "cell_type": "code",
   "execution_count": 9,
   "id": "21af8fd9-a837-490e-aed4-c5c806823c2b",
   "metadata": {},
   "outputs": [
    {
     "name": "stdout",
     "output_type": "stream",
     "text": [
      "<INFO> Instances Area:-50.0,-25.0,50.0,25.0; Total PWR=25.500mW\n"
     ]
    }
   ],
   "source": [
    "import importlib\n",
    "importlib.reload(FCpowermap)\n",
    "\n",
    "for i in DIEDict.keys():\n",
    "    pwrPath = DIEDict[i][\"powermapPath\"].selected\n",
    "    if os.path.isfile(pwrPath):\n",
    "        resolution = DIEDict[i][\"resolution\"].value\n",
    "        DIEDict[i][\"ETMHS\"] = FCpowermap.FCPowerView(pwrPath, \"ETMHS\")\n",
    "        DIEDict[i][\"ETMHS\"].translate2TilePwr(resolution=resolution)\n",
    "    else:\n",
    "        print(\"<ERROR> power map path not found\")\n",
    "\n",
    "    DIEDict[i][\"ETMHS\"].plot(ptype=[\"TILE\", resolution], saveImg=\"TilePwr_{}um.png\".format(str(resolution)))\n"
   ]
  },
  {
   "cell_type": "code",
   "execution_count": 16,
   "id": "5f7fabe2-86af-43c5-a781-edc13d3f9b5c",
   "metadata": {},
   "outputs": [
    {
     "name": "stdout",
     "output_type": "stream",
     "text": [
      "Min Grad: -2.594, Max Grad: 12.046, Sum: 0.0, R: 0.85\n",
      "10.0000_-5.0000_20.0000_5.0000 3.095\n",
      "20.0000_-5.0000_30.0000_5.0000 9.596\n",
      "20.0000_5.0000_30.0000_15.0000 3.37\n",
      "30.0000_-15.0000_40.0000_-5.0000 4.212\n",
      "30.0000_-5.0000_40.0000_5.0000 12.046\n",
      "30.0000_5.0000_40.0000_15.0000 3.249\n",
      "0.717\n",
      "10.0000_-5.0000_20.0000_5.0000 2.219\n",
      "20.0000_-5.0000_30.0000_5.0000 6.88\n",
      "20.0000_5.0000_30.0000_15.0000 2.416\n",
      "30.0000_-15.0000_40.0000_-5.0000 3.02\n",
      "30.0000_-5.0000_40.0000_5.0000 8.637\n",
      "30.0000_5.0000_40.0000_15.0000 2.33\n"
     ]
    }
   ],
   "source": [
    "from setups import thermalAnalysis\n",
    "\n",
    "import importlib\n",
    "importlib.reload(thermalAnalysis)\n",
    "\n",
    "#print(DIEDict.keys())\n",
    "#thermalAnalysis.powerProfileCorrelation(DIEDict[0][\"ETMHS\"], DIEDict[0][\"RHSCET\"], selectedLayer=\"NPTAB\")\n",
    "\n",
    "layer = \"NPTAB\"\n",
    "thermalCorr = thermalAnalysis.powerThermalAnalysis(DIEDict[0][\"ETMHS\"], DIEDict[0][\"RHSCET\"], resolution=DIEDict[0][\"resolution\"].value)\n",
    "thermalCorr.calNegLaplacianOperator(layer=layer)\n",
    "thermalCorr.plot(saveImg=\"grad{}_{}um.png\".format(layer, str(DIEDict[0][\"resolution\"].value)))\n",
    "\n",
    "#thermalCorr.calProfileCorr(layer=\"NPTAB\", unit=5)\n",
    "#thermalCorr.plot()"
   ]
  },
  {
   "cell_type": "code",
   "execution_count": 25,
   "id": "b93e1681-8275-4cfa-a66f-c845148bfd9e",
   "metadata": {},
   "outputs": [
    {
     "data": {
      "application/vnd.jupyter.widget-view+json": {
       "model_id": "39a06a7b2ac44baa96ccc42144b82726",
       "version_major": 2,
       "version_minor": 0
      },
      "text/plain": [
       "VBox(children=(Label(value='DIE'), HBox(children=(Dropdown(description='Layers:', options=('BM4', 'BV3', 'BM3'…"
      ]
     },
     "metadata": {},
     "output_type": "display_data"
    }
   ],
   "source": [
    "import importlib\n",
    "importlib.reload(RHSCETparser)\n",
    "importlib.reload(UIdisplay)\n",
    "\n",
    "for i in DIEDict.keys():\n",
    "    DIEDict[i][\"layerList\"] = []\n",
    "    title = DIEDict[i][\"name\"].value\n",
    "    out = UIdisplay.askDropItems2Processing(title=title, layerList=DIEDict[i][\"RHSCET\"].layerList, \\\n",
    "                                            layerQ=DIEDict[i][\"layerList\"])\n",
    "    display(out)\n",
    "\n",
    "#layerQ = []\n",
    "#out = UIdisplay.askLayers2Processing(TD1.layerList, layerQ)\n",
    "#display(out)\n",
    "\n",
    "#file = open(\"./MEOL.png\", \"rb\")\n",
    "#img = file.read()\n",
    "#widgets.Image(value=img, format=\"png\", width=400, height=400)"
   ]
  },
  {
   "cell_type": "code",
   "execution_count": 29,
   "id": "2e90b561-dcf9-4e16-b907-ffbcb9c14ae4",
   "metadata": {},
   "outputs": [],
   "source": [
    "T_Max = T_Upperbound.value\n",
    "\n",
    "for i in DIEDict.keys():\n",
    "    name = DIEDict[i][\"name\"].value\n",
    "    DIE = DIEDict[i][\"RHSCET\"]\n",
    "    layers = list(set(DIEDict[i][\"layerList\"]))\n",
    "    for ly in layers:\n",
    "        #hots = TD1.getTopNHotSpots(selectedLayer=ly)\n",
    "        hots = []\n",
    "        saveImgName = \"{}_{}.png\".format(name, ly)\n",
    "        DIE.plot(dieName=name, selectedLayer=ly, max_val=T_Max, highlighted=hots, saveImg=saveImgName)\n",
    "\n",
    "\n",
    "#layerQ = list(set(layerQ))\n",
    "#print(layerQ)"
   ]
  },
  {
   "cell_type": "code",
   "execution_count": null,
   "id": "801d526c-bac9-4811-abf9-2d084e1635c2",
   "metadata": {},
   "outputs": [],
   "source": []
  }
 ],
 "metadata": {
  "kernelspec": {
   "display_name": "Python 3 (ipykernel)",
   "language": "python",
   "name": "python3"
  },
  "language_info": {
   "codemirror_mode": {
    "name": "ipython",
    "version": 3
   },
   "file_extension": ".py",
   "mimetype": "text/x-python",
   "name": "python",
   "nbconvert_exporter": "python",
   "pygments_lexer": "ipython3",
   "version": "3.8.18"
  }
 },
 "nbformat": 4,
 "nbformat_minor": 5
}
