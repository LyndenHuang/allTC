{
 "cells": [
  {
   "cell_type": "code",
   "execution_count": 2,
   "id": "624a5346-65f6-4f60-976c-255d55e487b5",
   "metadata": {},
   "outputs": [],
   "source": [
    "#### import packages ####\n",
    "import os\n",
    "import ipywidgets as widgets\n",
    "from ipywidgets import Label, HBox, VBox\n",
    "from ipyfilechooser import FileChooser\n",
    "\n",
    "#### import MY packages ####\n",
    "from parsers import RHSCETparser\n",
    "from setups import FCpowermap\n",
    "from setups import utilities\n",
    "from setups import UIdisplay\n",
    "\n",
    "style = {\"description_width\": \"initial\"}"
   ]
  },
  {
   "cell_type": "code",
   "execution_count": 2,
   "id": "a569d307-1c51-433f-8366-a370f034f11f",
   "metadata": {},
   "outputs": [
    {
     "data": {
      "application/vnd.jupyter.widget-view+json": {
       "model_id": "8e83f71c6cc6444ca858df5da713c42c",
       "version_major": 2,
       "version_minor": 0
      },
      "text/plain": [
       "VBox(children=(Text(value='TEST', description='CASE Name:', style=TextStyle(description_width='initial')), HBo…"
      ]
     },
     "execution_count": 2,
     "metadata": {},
     "output_type": "execute_result"
    }
   ],
   "source": [
    "### Create CASE folder for power/thermal analysis ###\n",
    "CASE = widgets.Text(value=\"TEST\", description=\"CASE Name:\", style=style, disabled=False)\n",
    "PWfc = FileChooser(\"./\")   ### power file generated from FC\n",
    "PWType = widgets.RadioButtons(options=[\"IPF\",\"CSV\",\"TILE\"], description=\"Power file type\", disabled=False)\n",
    "HB1 = HBox([Label(\"Select Power File:\"), PWfc, PWType])\n",
    "VBox([CASE, HB1])"
   ]
  },
  {
   "cell_type": "code",
   "execution_count": 3,
   "id": "a978cb15-8fc9-4da2-a19b-dcfccf46aa0a",
   "metadata": {},
   "outputs": [],
   "source": [
    "root = os.path.join(os.getcwd(), \"CASEs\")\n",
    "caseFolder = utilities.createCASE(root, CASE.value)"
   ]
  },
  {
   "cell_type": "code",
   "execution_count": 3,
   "id": "f9d698d8-ba13-4c35-b365-ac754b34a207",
   "metadata": {},
   "outputs": [
    {
     "data": {
      "application/vnd.jupyter.widget-view+json": {
       "model_id": "05ffc21954374db5bc2fbefe1e2016a1",
       "version_major": 2,
       "version_minor": 0
      },
      "text/plain": [
       "VBox(children=(Select(description='Design Area in Manually', index=1, options=('True', 'False'), style=Descrip…"
      ]
     },
     "execution_count": 3,
     "metadata": {},
     "output_type": "execute_result"
    }
   ],
   "source": [
    "### Optional: Manually given the design area ###\n",
    "isManually = widgets.Select(options=[\"True\", \"False\"], value=\"False\", style=style, \n",
    "                            description=\"Design Area in Manually\", disabled=False)\n",
    "llx = widgets.FloatText(value=0.0, description=\"LLX\", disabled=False)\n",
    "lly = widgets.FloatText(value=0.0, description=\"LLY\", disabled=False)\n",
    "urx = widgets.FloatText(value=0.0, description=\"URX\", disabled=False)\n",
    "ury = widgets.FloatText(value=0.0, description=\"URY\", disabled=False)\n",
    "HB1 = HBox([llx, lly, urx, ury])\n",
    "VBox([isManually, HB1])"
   ]
  },
  {
   "cell_type": "code",
   "execution_count": 10,
   "id": "cccbf054-f4fc-4471-9bdf-dea2ee1b8dc5",
   "metadata": {},
   "outputs": [
    {
     "name": "stdout",
     "output_type": "stream",
     "text": [
      "<INFO> Instances Area:30.49,42.62,102.06,113.08; Total PWR=18.409mW\n"
     ]
    },
    {
     "data": {
      "application/vnd.jupyter.widget-view+json": {
       "model_id": "075074d77d17400ea68a909260bcd2e6",
       "version_major": 2,
       "version_minor": 0
      },
      "text/plain": [
       "VBox(children=(IntText(value=5, description='Tile Resolution(um):', style=DescriptionStyle(description_width='…"
      ]
     },
     "execution_count": 10,
     "metadata": {},
     "output_type": "execute_result"
    }
   ],
   "source": [
    "import importlib\n",
    "importlib.reload(FCpowermap)\n",
    "\n",
    "designArea = []\n",
    "try:\n",
    "    if isManually.value in [\"True\"]:\n",
    "        designArea = [llx.value, lly.value, urx.value, ury.value]\n",
    "except:\n",
    "    pass\n",
    "\n",
    "FCpwrView = FCpowermap.FCPowerView(PWfc.selected, PWType.value, DesignArea=designArea)\n",
    "\n",
    "#cells = [\"i0mfvp803mc1q03x5\",\"i0mfuz443aa1q06x5\",\"i0mfuz803mc1q06x5\",\"i0moai013ab1n09x5\",\"i0moai013ac1d12x5\"]\n",
    "#cells = [\"i0mfuz443aa1q06x5\"] #[\"i0maoi302aa1d09x5\"] #[\"i0mfuz443aa1q06x5\"]\n",
    "#FCpwrView.modifyCSV(modifyCells=cells, pwrFactor=50)\n",
    "#FCpwrView.modifyCSV(modifyCells=\"ALL\", pwrFactor=0.000001)\n",
    "\n",
    "resolution = widgets.IntText(value=5, description=\"Tile Resolution(um):\", style=style, disabled=False)\n",
    "topN = widgets.IntText(value=10, description=\"Top-N High Power Tiles:\", style=style, disabled=False)\n",
    "VBox([resolution, topN])"
   ]
  },
  {
   "cell_type": "code",
   "execution_count": 21,
   "id": "b7f8bb9b-40ae-47c3-b89b-09d906baa6c4",
   "metadata": {},
   "outputs": [
    {
     "data": {
      "application/vnd.jupyter.widget-view+json": {
       "model_id": "3bd1e604f45b46048bcd38c0d2f6eef1",
       "version_major": 2,
       "version_minor": 0
      },
      "text/plain": [
       "VBox(children=(Label(value='Select candidated cells'), HBox(children=(Dropdown(description='Cells:', options=(…"
      ]
     },
     "metadata": {},
     "output_type": "display_data"
    }
   ],
   "source": [
    "import importlib\n",
    "importlib.reload(UIdisplay)\n",
    "\n",
    "FCpwrView.translate2TilePwr(resolution=resolution.value)\n",
    "candidatedCells = FCpwrView.TilePwrAnalysis(resolution=resolution.value, topN=topN.value)\n",
    "\n",
    "### select the candidated cells, droplist: \"cell,contributed_power_in_ratio\" ###\n",
    "droplist = []\n",
    "for c in candidatedCells:\n",
    "    _str = \"{}, {}%\".format(c[0], c[2])\n",
    "    droplist.append(_str)\n",
    "\n",
    "dumpCells = []\n",
    "out = UIdisplay.askDropItems2Processing(\"Select candidated cells\", droplist, dumpCells, dropLabel=\"Cells:\")\n",
    "display(out)"
   ]
  },
  {
   "cell_type": "code",
   "execution_count": 6,
   "id": "8c8c1cf0-abcc-494a-8774-40ff67d8bce1",
   "metadata": {},
   "outputs": [
    {
     "data": {
      "application/vnd.jupyter.widget-view+json": {
       "model_id": "aa38fe92dd61472eb5d22824d76f2360",
       "version_major": 2,
       "version_minor": 0
      },
      "text/plain": [
       "VBox(children=(GridspecLayout(children=(FloatText(value=0.0, description='09-1', layout=Layout(grid_area='widg…"
      ]
     },
     "execution_count": 6,
     "metadata": {},
     "output_type": "execute_result"
    }
   ],
   "source": [
    "import importlib\n",
    "importlib.reload(UIdisplay)\n",
    "\n",
    "XX, YY = 9, 9\n",
    "grid = UIdisplay.createArrayPanel(XX, YY)\n",
    "TSize = widgets.IntText(value=5, description=\"Tile Size(um):\", style=style, disabled=False)\n",
    "VBox([grid, TSize])"
   ]
  },
  {
   "cell_type": "code",
   "execution_count": 29,
   "id": "485dd310-4859-410e-9a9f-cc6d652b57b7",
   "metadata": {},
   "outputs": [
    {
     "data": {
      "text/plain": [
       "8.0"
      ]
     },
     "execution_count": 29,
     "metadata": {},
     "output_type": "execute_result"
    }
   ],
   "source": [
    "grid[2, 4].value"
   ]
  },
  {
   "cell_type": "code",
   "execution_count": 8,
   "id": "3400c261-7b68-48db-95cc-9c7e4a0c8168",
   "metadata": {},
   "outputs": [
    {
     "name": "stdout",
     "output_type": "stream",
     "text": [
      "BBOX: (0.0,0.0)-(90,90), Total Power: 3.0 mW\n"
     ]
    },
    {
     "data": {
      "text/plain": [
       "([0.0, 0.0, 90, 90], './tileIPF.csv')"
      ]
     },
     "execution_count": 8,
     "metadata": {},
     "output_type": "execute_result"
    }
   ],
   "source": [
    "import importlib\n",
    "importlib.reload(UIdisplay)\n",
    "\n",
    "UIdisplay.ArrayPanel2TileIPF(XX, YY, TSize.value, grid)"
   ]
  },
  {
   "cell_type": "code",
   "execution_count": null,
   "id": "e2fb9512-b06d-47f6-9eb1-e45f5188b222",
   "metadata": {},
   "outputs": [],
   "source": []
  }
 ],
 "metadata": {
  "kernelspec": {
   "display_name": "Python 3 (ipykernel)",
   "language": "python",
   "name": "python3"
  },
  "language_info": {
   "codemirror_mode": {
    "name": "ipython",
    "version": 3
   },
   "file_extension": ".py",
   "mimetype": "text/x-python",
   "name": "python",
   "nbconvert_exporter": "python",
   "pygments_lexer": "ipython3",
   "version": "3.10.8"
  }
 },
 "nbformat": 4,
 "nbformat_minor": 5
}
