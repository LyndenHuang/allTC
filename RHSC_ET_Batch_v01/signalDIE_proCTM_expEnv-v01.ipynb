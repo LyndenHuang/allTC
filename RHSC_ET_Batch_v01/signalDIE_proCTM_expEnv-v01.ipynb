{
 "cells": [
  {
   "cell_type": "markdown",
   "id": "bf584863-89db-4c1e-8678-ddb1adb55c65",
   "metadata": {},
   "source": [
    "# Experiment Env. for Signal DIE Prototype CTM on RHSC-ET Thermal Analysis #"
   ]
  },
  {
   "cell_type": "code",
   "execution_count": 1,
   "id": "db1792c0-7b82-490f-bb74-484510feacad",
   "metadata": {},
   "outputs": [],
   "source": [
    "#### import packages ####\n",
    "import os\n",
    "import ipywidgets as widgets\n",
    "from ipywidgets import Label, HBox, VBox\n",
    "from ipyfilechooser import FileChooser\n",
    "\n",
    "#### import MY packages ####\n",
    "from parsers import RHSCETparser\n",
    "from setups import FCpowermap\n",
    "from setups import utilities\n",
    "\n",
    "style = {\"description_width\": \"initial\"}"
   ]
  },
  {
   "cell_type": "code",
   "execution_count": 27,
   "id": "92b0e8dd-01e9-4687-9fe6-24ce5a0b531a",
   "metadata": {},
   "outputs": [
    {
     "data": {
      "application/vnd.jupyter.widget-view+json": {
       "model_id": "93385761a7b0489eb95edb5448b5e28d",
       "version_major": 2,
       "version_minor": 0
      },
      "text/plain": [
       "VBox(children=(Text(value='TEST', description='CASE Name:'), HBox(children=(Label(value='Select Power File'), …"
      ]
     },
     "execution_count": 27,
     "metadata": {},
     "output_type": "execute_result"
    }
   ],
   "source": [
    "### Create CASE ###\n",
    "CASE = widgets.Text(value=\"TEST\", description=\"CASE Name:\", disabled=False)\n",
    "PWfc = FileChooser(\"./\")   ### power file generated from FC\n",
    "MDfc = FileChooser(\"./\")\n",
    "TFfc = FileChooser(\"./\")\n",
    "PWType = widgets.RadioButtons(options=[\"IPF\",\"CSV\",\"TILE\"], description=\"Power file type\", disabled=False)\n",
    "HB1 = HBox([Label(\"Select Power File\"), PWfc, PWType])\n",
    "HB2 = HBox([Label(\"Select Metal Density File\"), MDfc])\n",
    "HB3 = HBox([Label(\"Select Totem TechFile\"), TFfc])\n",
    "VBox([CASE, HB1, HB2, HB3])\n",
    "#display(PWfc)"
   ]
  },
  {
   "cell_type": "code",
   "execution_count": 28,
   "id": "938f4d8b-75ad-4a5f-8113-b26509465303",
   "metadata": {},
   "outputs": [],
   "source": [
    "### Create case in CASEs folder base on CASE Name ###\n",
    "#import importlib\n",
    "#importlib.reload(utilities)\n",
    "root = os.path.join(os.getcwd(), \"CASEs\")\n",
    "caseFolder = utilities.createCASE(root, CASE.value)\n",
    "caseDB = os.path.join(caseFolder, \"DB\")"
   ]
  },
  {
   "cell_type": "code",
   "execution_count": 29,
   "id": "408aa813-8ac3-463a-8b82-d0048e987b33",
   "metadata": {},
   "outputs": [
    {
     "data": {
      "application/vnd.jupyter.widget-view+json": {
       "model_id": "653b14d10ace475091bc38f3e964e718",
       "version_major": 2,
       "version_minor": 0
      },
      "text/plain": [
       "VBox(children=(Select(description='Design Area in Manually', index=1, options=('True', 'False'), value='False'…"
      ]
     },
     "execution_count": 29,
     "metadata": {},
     "output_type": "execute_result"
    }
   ],
   "source": [
    "### Optional: Manually given the design area ###\n",
    "isManually = widgets.Select(options=[\"True\", \"False\"], value=\"False\", description=\"Design Area in Manually\", disabled=False)\n",
    "llx = widgets.FloatText(value=0.0, description=\"LLX\", disabled=False)\n",
    "lly = widgets.FloatText(value=0.0, description=\"LLY\", disabled=False)\n",
    "urx = widgets.FloatText(value=0.0, description=\"URX\", disabled=False)\n",
    "ury = widgets.FloatText(value=0.0, description=\"URY\", disabled=False)\n",
    "HB1 = HBox([llx, lly, urx, ury])\n",
    "VBox([isManually, HB1])"
   ]
  },
  {
   "cell_type": "code",
   "execution_count": 31,
   "id": "93a792bf-f3ee-480d-8ffa-36b30d7fcb74",
   "metadata": {},
   "outputs": [
    {
     "name": "stdout",
     "output_type": "stream",
     "text": [
      "Design Area: [59.0, 23.0, 196.0, 219.0]\n",
      "<INFO> Instances Area:59.016,23.616,195.528,218.736; Total PWR=5.342mW\n"
     ]
    }
   ],
   "source": [
    "### Exam Power Map ###\n",
    "import importlib\n",
    "importlib.reload(FCpowermap)\n",
    "\n",
    "designArea = []\n",
    "try:\n",
    "    if isManually.value in [\"True\"]:\n",
    "        designArea = [llx.value, lly.value, urx.value, ury.value]\n",
    "except:\n",
    "    pass\n",
    "\n",
    "print(\"Design Area: {}\".format(designArea))\n",
    "FCpwrView = FCpowermap.FCPowerView(PWfc.selected, PWType.value, DesignArea=designArea)"
   ]
  },
  {
   "cell_type": "code",
   "execution_count": 32,
   "id": "413e68e5-12fd-4a15-91b1-2ce386214ede",
   "metadata": {},
   "outputs": [
    {
     "data": {
      "application/vnd.jupyter.widget-view+json": {
       "model_id": "16ad940248504cceaf9a13e79b493d7d",
       "version_major": 2,
       "version_minor": 0
      },
      "text/plain": [
       "VBox(children=(Text(value='CTM01', description='CTM Name'), HBox(children=(IntText(value=1, description='CTM R…"
      ]
     },
     "execution_count": 32,
     "metadata": {},
     "output_type": "execute_result"
    }
   ],
   "source": [
    "### Create Prototype CTM ###\n",
    "designArea, ETmhsPath = FCpwrView.RHSCETmhs(outputFolder=caseDB)\n",
    "CTM_name = widgets.Text(value=\"CTM01\", description=\"CTM Name\", disabled=False)\n",
    "CTM_resolution = widgets.IntText(value=1, description=\"CTM Resolution\", disabled=False)\n",
    "HB1 = HBox([CTM_resolution, Label(\"um\")])\n",
    "VBox([CTM_name, HB1])"
   ]
  },
  {
   "cell_type": "code",
   "execution_count": 33,
   "id": "c46bad2c-60c8-4b2e-af4a-4e7c928c5bad",
   "metadata": {},
   "outputs": [
    {
     "data": {
      "application/vnd.jupyter.widget-view+json": {
       "model_id": "b72f8051dc0e441fbb2e75bf3d960d23",
       "version_major": 2,
       "version_minor": 0
      },
      "text/plain": [
       "IntProgress(value=0)"
      ]
     },
     "metadata": {},
     "output_type": "display_data"
    },
    {
     "name": "stdout",
     "output_type": "stream",
     "text": [
      "Your job has been queued (JobID 2217339209, Class SLES15SP4, Queue zsc9_dts, Slot /de/pdk/dev/sl_int)\n"
     ]
    },
    {
     "data": {
      "text/plain": [
       "True"
      ]
     },
     "execution_count": 33,
     "metadata": {},
     "output_type": "execute_result"
    }
   ],
   "source": [
    "#print(designArea, PWfc.selected, MDfc.selected, TFfc.selected, CTM_resolution.value)\n",
    "DIE_X = \"{:.3f}\".format(designArea[2]-designArea[0])\n",
    "DIE_Y = \"{:.3f}\".format(designArea[3]-designArea[1])\n",
    "CTM_r = str(CTM_resolution.value)\n",
    "\n",
    "### make a copy to the case DB folder ###\n",
    "os.system(\"cp -rf {} {}\".format(PWfc.selected, caseDB))\n",
    "os.system(\"cp -rf {} {}\".format(MDfc.selected, caseDB))\n",
    "os.system(\"cp -rf  {} {}\".format(TFfc.selected, caseDB))\n",
    "CTMparaDict = {\"RUN_DIR\":caseFolder, \"CTMNAME\":CTM_name.value, \"DIE_LENGTH\":DIE_X, \"DIE_WIDTH\":DIE_Y, \\\n",
    "               \"RESOLUTION\":CTM_r, \"PWRMAP\":ETmhsPath, \"DENSITY\":MDfc.selected, \"TOTEM_TF\":TFfc.selected}\n",
    "\n",
    "templateScript = os.path.join(os.path.join(os.getcwd(), \"ET_scripts\"), \"prototypeCTM.tcl\")\n",
    "ETscript = utilities.createETscript(CTMparaDict, template=templateScript, outputFolder=caseDB, outputName=\"genPrototypeCTM.tcl\")\n",
    "\n",
    "os.system(\"rm -rf {}\".format(os.path.join(caseFolder, \"*CTM*\")))\n",
    "runcmd = [\"#!/bin/csh\",\\\n",
    "          \"source /nfs/site/disks/x5e2d_gwa_chienchi_001/Tools/licenses/ansys.csh\", \\\n",
    "          \"redhawk_sc_et -3dic -ng {}\".format(ETscript)]\n",
    "runcshPath = os.path.join(caseDB, \"genCTM.csh\")\n",
    "\n",
    "progBar = widgets.IntProgress(max=100)\n",
    "display(progBar)\n",
    "CTMpath = os.path.join(os.path.join(CTMparaDict[\"RUN_DIR\"], \"CTM\"), CTMparaDict[\"CTMNAME\"]+\".tar.gz\")\n",
    "utilities.submitJob(runcmd, runcshPath=runcshPath, progressBar=progBar, checkFiles=[CTMpath])"
   ]
  },
  {
   "cell_type": "code",
   "execution_count": 34,
   "id": "825ead7b-1473-47e4-a688-93f812a4ebc0",
   "metadata": {},
   "outputs": [
    {
     "data": {
      "application/vnd.jupyter.widget-view+json": {
       "model_id": "bdb0996c53664c12a98ec56dab81f276",
       "version_major": 2,
       "version_minor": 0
      },
      "text/plain": [
       "HBox(children=(Label(value='Select Thermal TF'), FileChooser(path='/nfs/site/disks/x5e2d_3DIC_Thermal/LY/RHSC_…"
      ]
     },
     "execution_count": 34,
     "metadata": {},
     "output_type": "execute_result"
    }
   ],
   "source": [
    "### Select the Thermal TechFile ###\n",
    "TTFfc = FileChooser(\"./\")\n",
    "HBox([Label(\"Select Thermal TF\"), TTFfc])"
   ]
  },
  {
   "cell_type": "code",
   "execution_count": 35,
   "id": "a1e51e1f-3867-4a07-bf73-fcc8379ff295",
   "metadata": {},
   "outputs": [
    {
     "data": {
      "application/vnd.jupyter.widget-view+json": {
       "model_id": "f93dcf83329f48b8a7d242d01177f163",
       "version_major": 2,
       "version_minor": 0
      },
      "text/plain": [
       "VBox(children=(Text(value='DEMO', description='ET Project Name', style=TextStyle(description_width='initial'))…"
      ]
     },
     "execution_count": 35,
     "metadata": {},
     "output_type": "execute_result"
    }
   ],
   "source": [
    "import importlib\n",
    "from parsers import ThermalTFparser\n",
    "importlib.reload(ThermalTFparser) \n",
    "\n",
    "TTF = ThermalTFparser.parseThermalTF(TTFfc.selected)\n",
    "\n",
    "## TTF.TTFNames\n",
    "TTFNames = [\"p1278_m14_BULK\", \"p1278_m14_woBULK\", \"p1278_m18_BULK\", \"p1280_m16_BULK\", \"p1280_m16_woBULK\"]\n",
    "\n",
    "### Setup DIE thermal simulation inputs ###\n",
    "ETCaseName = widgets.Text(value=\"DEMO\", description=\"ET Project Name\", style=style, disabled=False)\n",
    "DIE_H = widgets.FloatText(value=0.0, description=\"DIE height\", style=style, disabled=False)\n",
    "TFDIE = widgets.Dropdown(options=TTFNames, description=\"TTF DIE Label\", style=style, disabled=False)\n",
    "totalPWR = widgets.FloatText(value=1.0, description=\"Total PWR\", style=style, disabled=False)\n",
    "deltaT = widgets.FloatText(value=10.0, description=\"delta T\", style=style, disabled=False)\n",
    "ambT = widgets.FloatText(value=25.0, description=\"Ambient T\", style=style, disabled=False)\n",
    "TOPBC = widgets.FloatText(value=1000.0, description=\"Top DIE BC\", style=style, disabled=False)\n",
    "BOTBC = widgets.FloatText(value=1000.0, description=\"Bot DIE BC\", style=style, disabled=False)\n",
    "HB1 = HBox([DIE_H, Label(\"um\")])\n",
    "HB2 = HBox([TFDIE])\n",
    "HB3 = HBox([totalPWR, Label(\"mW\"), deltaT])\n",
    "HB4 = HBox([ambT, TOPBC, Label(\"H\"), BOTBC, Label(\"H\")])\n",
    "VBox([ETCaseName, HB1, HB2, HB3, HB4])"
   ]
  },
  {
   "cell_type": "code",
   "execution_count": 37,
   "id": "476e9a76-2187-4eb0-9bbd-8c41a6df4ae7",
   "metadata": {},
   "outputs": [
    {
     "name": "stdout",
     "output_type": "stream",
     "text": [
      "Estimated HTC: 3289.6\n"
     ]
    }
   ],
   "source": [
    "### simple HTC estimation: to refine the HTC values ###\n",
    "refHTC = utilities.simpleCalHTC(totalPWR.value, designArea, deltaT=deltaT.value)\n",
    "#refHTC = utilities.simpleCalHTC(1.3, [0,0,135,135], 2.4)\n",
    "print(\"Estimated HTC: {}\".format(refHTC))"
   ]
  },
  {
   "cell_type": "code",
   "execution_count": 38,
   "id": "f44785c5-2361-4dd0-9dcc-9f5a2ceae71c",
   "metadata": {},
   "outputs": [
    {
     "data": {
      "application/vnd.jupyter.widget-view+json": {
       "model_id": "3e8d2cc40f0e4134ac609aab4fb62fc2",
       "version_major": 2,
       "version_minor": 0
      },
      "text/plain": [
       "IntProgress(value=0)"
      ]
     },
     "metadata": {},
     "output_type": "display_data"
    },
    {
     "name": "stdout",
     "output_type": "stream",
     "text": [
      "Your job has been queued (JobID 2217345300, Class SLES15SP4, Queue zsc9_dts, Slot /de/pdk/dev/sl_int)\n"
     ]
    },
    {
     "data": {
      "text/plain": [
       "True"
      ]
     },
     "execution_count": 38,
     "metadata": {},
     "output_type": "execute_result"
    }
   ],
   "source": [
    "### Create ET script ###\n",
    "DIEparaDict = {\"RUN_DIR\":caseFolder, \"NAME\":ETCaseName.value, \"CTM\":CTMpath, \"DIE_LENGTH\":DIE_X, \\\n",
    "               \"DIE_WIDTH\":DIE_Y, \"DIE_HEIGHT\":str(DIE_H.value), \"TTF\":TTFfc.selected, \"TFDIE\":TFDIE.value, \\\n",
    "               \"AMBIENT_T\":str(ambT.value), \"TOPBC\":str(TOPBC.value), \"BOTBC\":str(BOTBC.value) }\n",
    "\n",
    "templateScript = os.path.join(os.path.join(os.getcwd(), \"ET_scripts\"), \"signalDIE.tcl\")\n",
    "ETscript = utilities.createETscript(DIEparaDict, template=templateScript, outputFolder=caseDB, outputName=\"DEMO_et.tcl\")\n",
    "\n",
    "ETFolder = os.path.join(caseFolder, ETCaseName.value+\"_et\")\n",
    "os.system(\"rm -rf {}\".format(ETFolder))\n",
    "runcmd = [\"#!/bin/csh\",\\\n",
    "          \"source /nfs/site/disks/x5e2d_gwa_chienchi_001/Tools/licenses/ansys.csh\", \\\n",
    "          \"redhawk_sc_et -3dic -ng {}\".format(ETscript)]\n",
    "runcshPath = os.path.join(caseDB, \"runET.csh\")\n",
    "\n",
    "progBar = widgets.IntProgress(max=100)\n",
    "display(progBar)\n",
    "TProfile = os.path.join(ETFolder, \"ThermalProfile_DIE.txt\")\n",
    "checkFiles = [os.path.join(ETFolder, \"analysis/STATIC_RUN/thermal/STATIC_RUN.dbg\"), \\\n",
    "              TProfile]\n",
    "utilities.submitJob(runcmd, runcshPath=runcshPath, progressBar=progBar, checkFiles=checkFiles)"
   ]
  },
  {
   "cell_type": "code",
   "execution_count": null,
   "id": "4341247e-a4d5-45b6-9309-855936d7ab2c",
   "metadata": {},
   "outputs": [],
   "source": [
    "### analysis ET Thermal Profile ###\n",
    "ETview = RHSCETparser.RHSCETView(TProfile)\n",
    "ETview.plot(isShow=True)"
   ]
  },
  {
   "cell_type": "markdown",
   "id": "c74d111b-6889-4a12-88ef-221918ec05be",
   "metadata": {},
   "source": [
    "## UT1. Open the RHSC-ET ##\n",
    "Create a folder \"OpenET\" for execution"
   ]
  },
  {
   "cell_type": "code",
   "execution_count": 1,
   "id": "17217577-3102-4e43-9910-c18980215f17",
   "metadata": {},
   "outputs": [
    {
     "name": "stdout",
     "output_type": "stream",
     "text": [
      "Your job has been queued (JobID 2300631647, Class SLES15SP4, Queue zsc9_dts, Slot /de/pdk/dev/sl_int)\n"
     ]
    },
    {
     "data": {
      "text/plain": [
       "True"
      ]
     },
     "execution_count": 1,
     "metadata": {},
     "output_type": "execute_result"
    }
   ],
   "source": [
    "### Optional: Submit job to open RHSC_ET GUI mode ###\n",
    "import os\n",
    "import importlib\n",
    "from setups import utilities\n",
    "importlib.reload(utilities)\n",
    "\n",
    "root_ut1 = os.path.join(os.getcwd(), \"CASEs\")\n",
    "_caseFolder = utilities.createCASE(root_ut1, \"OpenET\")\n",
    "_caseDB = os.path.join(_caseFolder, \"DB\")\n",
    "\n",
    "runcmd = [\"#!/bin/csh\",\n",
    "          \"source /nfs/site/disks/x5e2d_gwa_chienchi_001/Tools/licenses/ansys.csh\", \\\n",
    "          \"redhawk_sc_et -3dic\"]\n",
    "runcshPath = os.path.join(_caseDB, \"runETGUI.csh\")\n",
    "utilities.submitJob(runcmd, runcshPath=runcshPath)"
   ]
  },
  {
   "cell_type": "code",
   "execution_count": null,
   "id": "1ca61d3a-c653-44b0-994d-890114d56e3c",
   "metadata": {},
   "outputs": [],
   "source": []
  }
 ],
 "metadata": {
  "kernelspec": {
   "display_name": "Python 3 (ipykernel)",
   "language": "python",
   "name": "python3"
  },
  "language_info": {
   "codemirror_mode": {
    "name": "ipython",
    "version": 3
   },
   "file_extension": ".py",
   "mimetype": "text/x-python",
   "name": "python",
   "nbconvert_exporter": "python",
   "pygments_lexer": "ipython3",
   "version": "3.11.1"
  }
 },
 "nbformat": 4,
 "nbformat_minor": 5
}
