{
 "cells": [
  {
   "cell_type": "markdown",
   "id": "bf584863-89db-4c1e-8678-ddb1adb55c65",
   "metadata": {},
   "source": [
    "# Experiment Env. for Stack DIE (TD+BD+EMIB) Prototype CTM on RHSC-ET Thermal Analysis #"
   ]
  },
  {
   "cell_type": "code",
   "execution_count": 1,
   "id": "db1792c0-7b82-490f-bb74-484510feacad",
   "metadata": {},
   "outputs": [],
   "source": [
    "#### import packages ####\n",
    "import os\n",
    "import ipywidgets as widgets\n",
    "from ipywidgets import Label, HBox, VBox\n",
    "from ipyfilechooser import FileChooser\n",
    "\n",
    "#### import MY packages ####\n",
    "from parsers import RHSCETparser\n",
    "from setups import FCpowermap\n",
    "from setups import utilities\n",
    "from setups import UIdisplay"
   ]
  },
  {
   "cell_type": "code",
   "execution_count": 2,
   "id": "92b0e8dd-01e9-4687-9fe6-24ce5a0b531a",
   "metadata": {},
   "outputs": [
    {
     "data": {
      "application/vnd.jupyter.widget-view+json": {
       "model_id": "5348067b396447dfa8377a5d76b6b41c",
       "version_major": 2,
       "version_minor": 0
      },
      "text/plain": [
       "Text(value='TEST', description='CASE Name')"
      ]
     },
     "metadata": {},
     "output_type": "display_data"
    }
   ],
   "source": [
    "### Create CASE ###\n",
    "CASE = widgets.Text(value=\"TEST\", description=\"CASE Name\", disabled=False)\n",
    "display(CASE)"
   ]
  },
  {
   "cell_type": "code",
   "execution_count": null,
   "id": "9906b1d0-b58e-478e-8344-13c6c2b60e4c",
   "metadata": {},
   "outputs": [],
   "source": [
    "## Create CTMs: Top Die (TD), Bot Die (BD) & RDL ##"
   ]
  },
  {
   "cell_type": "code",
   "execution_count": 3,
   "id": "f3ac72ba-53c1-49f9-89fa-ad55c6e794a7",
   "metadata": {},
   "outputs": [
    {
     "data": {
      "application/vnd.jupyter.widget-view+json": {
       "model_id": "7a9f8d962bcc4654a1553e9b0da60be3",
       "version_major": 2,
       "version_minor": 0
      },
      "text/plain": [
       "VBox(children=(Label(value='Top Die'), HBox(children=(Label(value='Select Power File'), FileChooser(path='C:\\U…"
      ]
     },
     "metadata": {},
     "output_type": "display_data"
    }
   ],
   "source": [
    "UI, TD = UIdisplay.askPowerDensityRCfiles(\"Top Die\")\n",
    "### TD[0]: [power file, power_file_type], TD[1]: metal density file, TD[2]: RC techfile\n",
    "display(UI)"
   ]
  },
  {
   "cell_type": "code",
   "execution_count": null,
   "id": "2b91b8c3-53e1-4d11-8832-9cbecad48ded",
   "metadata": {},
   "outputs": [],
   "source": [
    "UI, BD = UIdisplay.askPowerDensityRCfiles(\"Bot Die\")\n",
    "display(UI)"
   ]
  },
  {
   "cell_type": "code",
   "execution_count": null,
   "id": "02dae932-2891-4354-9787-bcaa30f6ab69",
   "metadata": {},
   "outputs": [],
   "source": [
    "UI, RDL = UIdisplay.askPowerDensityRCfiles(\"RDL Die\")\n",
    "display(UI)"
   ]
  },
  {
   "cell_type": "code",
   "execution_count": null,
   "id": "938f4d8b-75ad-4a5f-8113-b26509465303",
   "metadata": {},
   "outputs": [],
   "source": [
    "### Create case in CASEs folder base on CASE Name ###\n",
    "root = os.path.join(os.getcwd(), \"CASEs\")\n",
    "caseFolder = utilities.createCASE(root, CASE.value)\n",
    "caseDB = os.path.join(caseFolder, \"DB\")"
   ]
  },
  {
   "cell_type": "code",
   "execution_count": null,
   "id": "408aa813-8ac3-463a-8b82-d0048e987b33",
   "metadata": {},
   "outputs": [],
   "source": [
    "### Optional: Manually given the design area ###\n",
    "import importlib\n",
    "importlib.reload(UIdisplay)\n",
    "\n",
    "_TD, TDGemo = UIdisplay.askDesignArea(\"Top Die\")\n",
    "_BD, BDGemo = UIdisplay.askDesignArea(\"Bot Die\")\n",
    "_RDL, RDLGemo = UIdisplay.askDesignArea(\"RDL Die\")\n",
    "VBox([_TD, _BD, _RDL])"
   ]
  },
  {
   "cell_type": "code",
   "execution_count": null,
   "id": "93a792bf-f3ee-480d-8ffa-36b30d7fcb74",
   "metadata": {},
   "outputs": [],
   "source": [
    "### Exam Power Map ###\n",
    "import importlib\n",
    "importlib.reload(FCpowermap)\n",
    "\n",
    "if TDGemo[0].value in [\"True\"]:\n",
    "    TDArea = [TDGemo[1].value, TDGemo[2].value, TDGemo[3].value, TDGemo[4].value]\n",
    "else:\n",
    "    TDArea = []\n",
    "\n",
    "print(\"Top Die Area: {}\".format(TDArea))\n",
    "TDpwrView = FCpowermap.FCPowerView(TD[0][0].selected, TD[0][1].value, DesignArea=TDArea)\n",
    "#TDpwrView.plot(saveImg=\"TopPwr.png\", isShow=False)\n",
    "\n",
    "if BDGemo[0].value in [\"True\"]:\n",
    "    BDArea = [BDGemo[1].value, BDGemo[2].value, BDGemo[3].value, BDGemo[4].value]\n",
    "else:\n",
    "    BDArea = []\n",
    "\n",
    "print(\"Bot Die Area: {}\".format(BDArea))\n",
    "BDpwrView = FCpowermap.FCPowerView(BD[0][0].selected, BD[0][1].value, DesignArea=BDArea)\n",
    "#BDpwrView.plot(saveImg=\"BotPwr.png\", isShow=False)\n",
    "\n",
    "if RDLGemo[0].value in [\"True\"]:\n",
    "    RDLArea = [RDLGemo[1].value, RDLGemo[2].value, RDLGemo[3].value, RDLGemo[4].value]\n",
    "else:\n",
    "    RDLArea = []\n",
    "\n",
    "print(\"RDL Area: {}\".format(RDLArea))\n",
    "RDLpwrView = FCpowermap.FCPowerView(RDL[0][0].selected, RDL[0][1].value, DesignArea=RDLArea)\n",
    "#RDLpwrView.plot(isShow=False)"
   ]
  },
  {
   "cell_type": "code",
   "execution_count": null,
   "id": "413e68e5-12fd-4a15-91b1-2ce386214ede",
   "metadata": {},
   "outputs": [],
   "source": [
    "### Create Prototype CTM ###\n",
    "TDArea, TDmhsPath = TDpwrView.RHSCETmhs(outputFolder=caseDB, outputName=\"TDpwd.mhs\")\n",
    "BDArea, BDmhsPath = BDpwrView.RHSCETmhs(outputFolder=caseDB, outputName=\"BDpwd.mhs\")\n",
    "RDLArea, RDLmhsPath = RDLpwrView.RHSCETmhs(outputFolder=caseDB, outputName=\"RDLpwd.mhs\")  ## zero power\n",
    "\n",
    "_TDCTM, TDCTM = UIdisplay.setupCTMResolution(\"Top Die\")\n",
    "_BDCTM, BDCTM = UIdisplay.setupCTMResolution(\"Bot Die\")\n",
    "_RDLCTM, RDLCTM = UIdisplay.setupCTMResolution(\"RDL Die\")\n",
    "VBox([_TDCTM, _BDCTM, _RDLCTM])"
   ]
  },
  {
   "cell_type": "code",
   "execution_count": null,
   "id": "c46bad2c-60c8-4b2e-af4a-4e7c928c5bad",
   "metadata": {},
   "outputs": [],
   "source": [
    "#print(designArea, PWfc.selected, MDfc.selected, TFfc.selected, CTM_resolution.value)\n",
    "os.system(\"rm -rf {}\".format(os.path.join(caseFolder, \"*CTM*\")))\n",
    "DIEsDict = {}\n",
    "for DIE in [[\"TD\", TD, TDArea, TDCTM, TDmhsPath], [\"BD\", BD, BDArea, BDCTM, BDmhsPath], [\"RDL\", RDL, RDLArea, RDLCTM, RDLmhsPath]]:\n",
    "    Name, Setup, Area, CTM, mhsPath = DIE[0], DIE[1], DIE[2], DIE[3], DIE[4]\n",
    "    \n",
    "    DIE_X = \"{:.3f}\".format(Area[2]-Area[0])\n",
    "    DIE_Y = \"{:.3f}\".format(Area[3]-Area[1])\n",
    "    CTM_r = str(CTM[1].value)\n",
    "    \n",
    "    ### make a copy to the case DB folder ###\n",
    "    os.system(\"cp -rf {} {}\".format(Setup[0][0].selected, caseDB))\n",
    "    os.system(\"cp -rf {} {}\".format(Setup[1].selected, caseDB))\n",
    "    os.system(\"cp -rf {} {}\".format(Setup[2].selected, caseDB))\n",
    "\n",
    "    CTMparaDict = {\"RUN_DIR\":caseFolder, \"CTMNAME\":CTM[0].value, \"DIE_LENGTH\":DIE_X, \"DIE_WIDTH\":DIE_Y, \\\n",
    "                   \"RESOLUTION\":CTM_r, \"PWRMAP\":mhsPath, \"DENSITY\":Setup[1].selected, \"TOTEM_TF\":Setup[2].selected}\n",
    "\n",
    "    templateScript = os.path.join(os.path.join(os.getcwd(), \"ET_scripts\"), \"prototypeCTM.tcl\")\n",
    "    ETscript = utilities.createETscript(CTMparaDict, template=templateScript, \\\n",
    "                                        outputFolder=caseDB, outputName=\"genPrototype{}CTM.tcl\".format(Name))\n",
    "\n",
    "    runcmd = [\"#!/bin/csh\", \"rm -rf {}\".format(os.path.join(caseFolder, \"_CTM_et\")),\\\n",
    "              \"source /nfs/site/disks/ifs_itip_disk001/cchuang/Tools/licenses/ansys.csh\", \\\n",
    "              \"redhawk_sc_et -3dic -ng {}\".format(ETscript)]\n",
    "\n",
    "    runcshPath = os.path.join(caseDB, \"gen{}CTM.csh\".format(Name))\n",
    "    progBar = widgets.IntProgress(max=100)\n",
    "    display(progBar)\n",
    "    \n",
    "    CTMpath = os.path.join(os.path.join(CTMparaDict[\"RUN_DIR\"], \"CTM\"), CTMparaDict[\"CTMNAME\"]+\".tar.gz\")\n",
    "    DIEsDict.setdefault(Name, {\"CTMpath\":CTMpath, \"CTMdetails\":CTMparaDict})\n",
    "    \n",
    "    utilities.submitJob(runcmd, runcshPath=runcshPath, progressBar=progBar, checkFiles=[CTMpath])"
   ]
  },
  {
   "cell_type": "code",
   "execution_count": null,
   "id": "8dc82384-92bb-4604-8c03-06542679a795",
   "metadata": {},
   "outputs": [],
   "source": [
    "### Exam CTM power profile ###\n",
    "#ctmImgPath = os.path.join(os.path.join(CTMparaDict[\"RUN_DIR\"], \"CTM\"), \"ctm_pwr.png\")\n",
    "#utilities.viewImg(ctmImgPath)"
   ]
  },
  {
   "cell_type": "code",
   "execution_count": null,
   "id": "a1e51e1f-3867-4a07-bf73-fcc8379ff295",
   "metadata": {},
   "outputs": [],
   "source": [
    "import importlib\n",
    "importlib.reload(UIdisplay)\n",
    "\n",
    "### Setup DIE thermal simulation inputs ###\n",
    "ETCaseName = widgets.Text(value=\"DEMO\", description=\"ET Project Name\", disabled=False)\n",
    "TD_H = widgets.FloatText(value=19.1, description=\"TD height\", disabled=False)\n",
    "BD_H = widgets.FloatText(value=17.1, description=\"BD height\", disabled=False)\n",
    "RDL_H = widgets.FloatText(value=11.0, description=\"RDL height\", disabled=False)\n",
    "\n",
    "totalPWR = widgets.FloatText(value=1.0, description=\"Total PWR\", disabled=False)\n",
    "deltaT = widgets.FloatText(value=10.0, description=\"delta T\", disabled=False)\n",
    "\n",
    "### Bump/Ball, unit: mm ###\n",
    "#UB_D = widgets.FloatText(value=0.02, description=\"uBump diameter\", disabled=False)\n",
    "#UB_H = widgets.FloatText(value=0.005, description=\"uBump height\", disabled=False)\n",
    "#UB_PX = widgets.FloatText(value=0.025, description=\"uBump pitchX\", disabled=False)\n",
    "#UB_PY = widgets.FloatText(value=0.025, description=\"uBump pitchY\", disabled=False)\n",
    "#UB_AX = widgets.intText(value=5, description=\"uBump arrayX\", disabled=False)\n",
    "#UB_AY = widgets.intText(value=5, description=\"uBump arrayY\", disabled=False)\n",
    "\n",
    "#C4_D = widgets.FloatText(value=0.05, description=\"C4 diameter\", disabled=False)\n",
    "#C4_H = widgets.FloatText(value=0.01, description=\"C4 height\", disabled=False)\n",
    "#C4_PX = widgets.FloatText(value=0.07, description=\"C4 pitchX\", disabled=False)\n",
    "#C4_PY = widgets.FloatText(value=0.07, description=\"C4 pitchY\", disabled=False)\n",
    "#C4_AX = widgets.intText(value=5, description=\"C4 arrayX\", disabled=False)\n",
    "#C4_AY = widgets.intText(value=5, description=\"C4 arrayY\", disabled=False)\n",
    "\n",
    "### default: [diameter, height, pitchX, pitchY, arrayX, arrayY] ###\n",
    "_uBump, uBump = UIdisplay.setupBumpBall(\"uBump\", Gtype=\"ARRAY\", defaultValues=[0.02, 0.005, 0.0025, 0.0025, 5, 5])\n",
    "_C4, C4 = UIdisplay.setupBumpBall(\"C4\", Gtype=\"ARRAY\", defaultValues=[0.05, 0.01, 0.07, 0.07, 5, 5])\n",
    "########################\n",
    "\n",
    "### Layout ###\n",
    "#HB1 = HBox([DIE_H, Label(\"um\")])\n",
    "#HB2 = HBox([Label(\"Select Thermal TF\"), TTFfc, TFDIE])\n",
    "#HB3 = HBox([totalPWR, Label(\"mW\"), deltaT])\n",
    "#HB4 = HBox([ambT, TOPBC, Label(\"H\"), BOTBC, Label(\"H\")])\n",
    "VBox([ETCaseName, _uBump, _C4, HB4])"
   ]
  },
  {
   "cell_type": "code",
   "execution_count": 12,
   "id": "9c058050-83db-4b1e-88c1-3ec6167c9d9f",
   "metadata": {},
   "outputs": [
    {
     "data": {
      "application/vnd.jupyter.widget-view+json": {
       "model_id": "9735671b4130464cb204214af9f3d7ee",
       "version_major": 2,
       "version_minor": 0
      },
      "text/plain": [
       "VBox(children=(VBox(children=(Label(value='Molding Compound'), HBox(children=(FloatText(value=0.44, descriptio…"
      ]
     },
     "execution_count": 12,
     "metadata": {},
     "output_type": "execute_result"
    }
   ],
   "source": [
    "### Package, unit: mm ###\n",
    "\"\"\"\n",
    "PCB_L = widgets.FloatText(value=2.0, description=\"PCB length\", disabled=False)\n",
    "PCB_W = widgets.FloatText(value=2.0, description=\"PCB width\", disabled=False)\n",
    "MC_L = widgets.FloatText(value=0.44, description=\"MC length\", disabled=False)\n",
    "MC_W = widgets.FloatText(value=0.42, description=\"MC width\", disabled=False)\n",
    "MC_H = widgets.FloatText(value=0.0412, description=\"MC height\", disabled=False)\n",
    "TIM_L = widgets.FloatText(value=0.44, description=\"TIM length\", disabled=False)\n",
    "TIM_W = widgets.FloatText(value=0.42, description=\"TIM width\", disabled=False)\n",
    "TIM_H = widgets.FloatText(value=0.01, description=\"TIM height\", disabled=False)\n",
    "LID_L = widgets.FloatText(value=0.44, description=\"LID length\", disabled=False)\n",
    "LID_W = widgets.FloatText(value=0.42, description=\"LID width\", disabled=False)\n",
    "LID_H = widgets.FloatText(value=0.2, description=\"LID height\", disabled=False)\n",
    "\"\"\"\n",
    "########################\n",
    "import importlib\n",
    "importlib.reload(UIdisplay)\n",
    "\n",
    "_MC, MC = UIdisplay.setupComponent(title=\"Molding Compound\", componentType=\"MC\", defaultValues=[0.44, 0.42, 0.0412])\n",
    "_TIM, TIM = UIdisplay.setupComponent(title=\"TIM\", componentType=\"TIM\", defaultValues=[0.44, 0.42, 0.01])\n",
    "_LID, LID = UIdisplay.setupComponent(title=\"LID\", componentType=\"LID\", defaultValues=[0.44, 0.42, 0.2])\n",
    "_PCB, PCB = UIdisplay.setupComponent(title=\"PCB\", componentType=\"PCB\", defaultValues=[2.0, 2.0])\n",
    "VBox([_MC, _TIM, _LID, _PCB])"
   ]
  },
  {
   "cell_type": "code",
   "execution_count": 15,
   "id": "21279dea-f555-4520-ad32-3161dfdd754c",
   "metadata": {},
   "outputs": [
    {
     "name": "stdout",
     "output_type": "stream",
     "text": [
      "0.44 0.2 0.0412\n"
     ]
    }
   ],
   "source": [
    "print(MC.length.value, LID.height.value, str(MC.height.value))"
   ]
  },
  {
   "cell_type": "code",
   "execution_count": 14,
   "id": "aef64730-a93c-4abc-babe-5e8e7c56bc9e",
   "metadata": {},
   "outputs": [
    {
     "data": {
      "application/vnd.jupyter.widget-view+json": {
       "model_id": "28018ebdf15b4cf18be7ae6861ed7e36",
       "version_major": 2,
       "version_minor": 0
      },
      "text/plain": [
       "VBox(children=(Label(value='Boundary Conditions'), FloatText(value=25.0, description='Ambient T'), HBox(childr…"
      ]
     },
     "metadata": {},
     "output_type": "display_data"
    }
   ],
   "source": [
    "TTFfc = FileChooser(\"./\")\n",
    "TDTFDIE = widgets.Text(value=\"1P11M_wTSV_BS4Mi\", description=\"TTF TD Label\", disabled=False)\n",
    "BDTFDIE = widgets.Text(value=\"1P11M_wTSV_BS2Mi\", description=\"TTF BD Label\", disabled=False)\n",
    "RDLTFDIE = widgets.Text(value=\"5RDL\", description=\"TTF RDL Label\", disabled=False)\n",
    "\n",
    "### Conditions ###\n",
    "#ambT = widgets.FloatText(value=25.0, description=\"Ambient T\", disabled=False)\n",
    "#TOPBC = widgets.FloatText(value=1000.0, description=\"Top BC\", disabled=False)\n",
    "#BOTBC = widgets.FloatText(value=10.0, description=\"Bot BC\", disabled=False)\n",
    "#SIDEBC = widgets.FloatText(value=10.0, description=\"Side BC\", disabled=False)\n",
    "import importlib\n",
    "importlib.reload(UIdisplay)\n",
    "\n",
    "_BC, BCs = UIdisplay.setupBoundarys(defaultValues=[25.0, 1000, 10, 10])\n",
    "display(_BC)"
   ]
  },
  {
   "cell_type": "code",
   "execution_count": null,
   "id": "476e9a76-2187-4eb0-9bbd-8c41a6df4ae7",
   "metadata": {},
   "outputs": [],
   "source": [
    "### simple HTC estimation: to refine the HTC values ###\n",
    "refHTC = utilities.simpleCalHTC(totalPWR.value, designArea, deltaT=deltaT.value)\n",
    "print(\"Estimated HTC: {}\".format(refHTC))"
   ]
  },
  {
   "cell_type": "code",
   "execution_count": null,
   "id": "f44785c5-2361-4dd0-9dcc-9f5a2ceae71c",
   "metadata": {},
   "outputs": [],
   "source": [
    "### Create ET script ###\n",
    "DIEparaDict = {\"RUN_DIR\":caseFolder, \"NAME\":ETCaseName.value, \n",
    "               \"CTMTD_PATH\":, \"CTMBD_PATH\":, \"CTMRDL_PATH\":,\n",
    "               \"TD_LENGTH\":, \"TD_WIDTH\":, \"TD_HEIGHT\":,\n",
    "               \"BD_LENGTH\":, \"BD_WIDTH\":, \"BD_HEIGHT\":,\n",
    "               \"RDL_LENGTH\":, \"RDL_WIDTH\":, \"RDL_HEIGHT\":,\n",
    "               \"PCB_LENGTH\":str(PCB.length.value), \"PCB_WIDTH\":str(PCB.length.value), \n",
    "               \"MC_LENGTH\":str(MC.length.value), \"MC_WIDTH\":str(MC.width.value), \"MC_HEIGHT\":str(MC.height.value),\n",
    "               \"TIM_LENGTH\":str(TIM.length.value), \"TIM_WIDTH\":str(TIM.width.value), \"TIM_HEIGHT\":str(TIM.height.value),\n",
    "               \"LID_LENGTH\":str(LID.length.value), \"LID_WIDTH\":str(LID.width.value), \"LID_HEIGHT\":str(LID.height.value),\n",
    "               \"UBUMP_D\":, \"UBUMP_H\":, \"UBUMP_PX\":, \"UBUMP_PY\":, \"UBUMP_AX\":, \"UBUMP_AY\":,\n",
    "               \"C4_D\":, \"C4_H\":, \"C4_PX\":, \"C4_PY\":, \"C4_AX\":, \"C4_AY\":,\n",
    "               \"TTF\":TTFfc.selected, \"TFTD\":, \"TFBD\":, \"TFRDL\":,\n",
    "               \"AMBIENT_T\":str(BCs.ambT.value), \"TOPBC\":str(BCs.topBC.value), \"BOTBC\":str(BCs.botBC.value), \"SIDEBC\":str(BCs.sideBC.value) }\n",
    "\n",
    "templateScript = os.path.join(os.path.join(os.getcwd(), \"ET_scripts\"), \"stackDIE_TD+BD+EMIB.tcl\")\n",
    "ETscript = utilities.createETscript(DIEparaDict, template=templateScript, outputFolder=caseDB, outputName=\"DEMO_et.tcl\")\n",
    "\n",
    "ETFolder = os.path.join(caseFolder, ETCaseName.value+\"_et\")\n",
    "runcmd = [\"#!/bin/csh\", \"rm -rf {}\".format(ETFolder),\\\n",
    "          \"source /nfs/site/disks/ifs_itip_disk001/cchuang/Tools/licenses/ansys.csh\", \\\n",
    "          \"redhawk_sc_et -3dic -ng {}\".format(ETscript)]\n",
    "runcshPath = os.path.join(caseDB, \"runET.csh\")\n",
    "\n",
    "progBar = widgets.IntProgress(max=100)\n",
    "display(progBar)\n",
    "TProfile = os.path.join(ETFolder, \"ThermalProfile_DIE.txt\")\n",
    "checkFiles = [os.path.join(ETFolder, \"analysis/STATIC_RUN/thermal/STATIC_RUN.dbg\"), \\\n",
    "              TProfile]\n",
    "utilities.submitJob(runcmd, runcshPath=runcshPath, progressBar=progBar, checkFiles=checkFiles)"
   ]
  },
  {
   "cell_type": "code",
   "execution_count": null,
   "id": "4341247e-a4d5-45b6-9309-855936d7ab2c",
   "metadata": {},
   "outputs": [],
   "source": [
    "### analysis ET Thermal Profile ###\n",
    "ETview = RHSCETparser.RHSCETView(TProfile)\n",
    "ETview.plot(isShow=True)"
   ]
  },
  {
   "cell_type": "code",
   "execution_count": null,
   "id": "17217577-3102-4e43-9910-c18980215f17",
   "metadata": {},
   "outputs": [],
   "source": [
    "### Optional: Submit job to open RHSC_ET GUI mode ###\n",
    "runcmd = [\"#!/bin/csh\",\n",
    "          \"source /nfs/site/disks/ifs_itip_disk001/cchuang/Tools/licenses/ansys.csh\", \\\n",
    "          \"redhawk_sc_et -3dic\"]\n",
    "runcshPath = os.path.join(caseDB, \"runETGUI.csh\")\n",
    "utilities.submitJob(runcmd, runcshPath=runcshPath)"
   ]
  },
  {
   "cell_type": "code",
   "execution_count": null,
   "id": "dc3d11d7-c612-4525-ac59-86cc7edac32b",
   "metadata": {},
   "outputs": [],
   "source": [
    "import datetime\n",
    "\n",
    "a = \"3e-08\"\n",
    "a = float(a)\n",
    "print(a, type(a))"
   ]
  }
 ],
 "metadata": {
  "kernelspec": {
   "display_name": "Python 3 (ipykernel)",
   "language": "python",
   "name": "python3"
  },
  "language_info": {
   "codemirror_mode": {
    "name": "ipython",
    "version": 3
   },
   "file_extension": ".py",
   "mimetype": "text/x-python",
   "name": "python",
   "nbconvert_exporter": "python",
   "pygments_lexer": "ipython3",
   "version": "3.10.8"
  }
 },
 "nbformat": 4,
 "nbformat_minor": 5
}
