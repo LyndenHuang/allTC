{
 "cells": [
  {
   "cell_type": "code",
   "execution_count": 1,
   "id": "95951c00-9cac-4a95-aaca-16ed2acfbeaa",
   "metadata": {},
   "outputs": [],
   "source": [
    "#### import packages ####\n",
    "import os\n",
    "import ipywidgets as widgets\n",
    "from ipywidgets import Label, HBox, VBox\n",
    "from ipyfilechooser import FileChooser\n",
    "\n",
    "#### import MY packages ####\n",
    "from parsers import RHSCETparser\n",
    "from setups import FCpowermap\n",
    "from setups import utilities\n",
    "from setups import UIdisplay"
   ]
  },
  {
   "cell_type": "code",
   "execution_count": 2,
   "id": "68f71778-8414-425a-aeee-1ff55313b0eb",
   "metadata": {},
   "outputs": [
    {
     "data": {
      "application/vnd.jupyter.widget-view+json": {
       "model_id": "081b4f9b6fb441bc8fe660bc92b510f2",
       "version_major": 2,
       "version_minor": 0
      },
      "text/plain": [
       "Text(value='TEST', description='CASE Name')"
      ]
     },
     "metadata": {},
     "output_type": "display_data"
    }
   ],
   "source": [
    "### Create CASE ###\n",
    "CASE = widgets.Text(value=\"TEST\", description=\"CASE Name\", disabled=False)\n",
    "display(CASE)"
   ]
  },
  {
   "cell_type": "code",
   "execution_count": 15,
   "id": "cd13821e-2174-4409-aaf6-482eb2e11166",
   "metadata": {},
   "outputs": [],
   "source": [
    "### Create case in CASEs folder base on CASE Name ###\n",
    "root = os.path.join(os.getcwd(), \"RESULTs\")\n",
    "caseFolder = utilities.createCASE(root, CASE.value, subFolders=[])"
   ]
  },
  {
   "cell_type": "markdown",
   "id": "71e93244-a70c-4784-9403-d87be41f1e39",
   "metadata": {
    "jp-MarkdownHeadingCollapsed": true
   },
   "source": [
    "## UT1: Thermal Profiles Display ##\n",
    "1. Load DIE thermal profiles\n",
    "2. Determine the highest temperature value\n",
    "3. Display layer thermal profiles with grid-layout setting"
   ]
  },
  {
   "cell_type": "code",
   "execution_count": 44,
   "id": "2448dbb3-4e33-4097-bb0e-0573af2dd2ec",
   "metadata": {},
   "outputs": [
    {
     "data": {
      "application/vnd.jupyter.widget-view+json": {
       "model_id": "2303250b46b240c1923cb334cf588771",
       "version_major": 2,
       "version_minor": 0
      },
      "text/plain": [
       "VBox(children=(Label(value='Select Files'), HBox(children=(FileChooser(path='C:\\Users\\chienchi\\OneDrive - Inte…"
      ]
     },
     "metadata": {},
     "output_type": "display_data"
    }
   ],
   "source": [
    "import importlib\n",
    "importlib.reload(UIdisplay)\n",
    "\n",
    "TProfileList = []\n",
    "out = UIdisplay.askFileDropItems2Processing(\"Select Files\", TProfileList)\n",
    "display(out)"
   ]
  },
  {
   "cell_type": "code",
   "execution_count": 51,
   "id": "b1c75816-6712-4219-a33d-5019b15c9400",
   "metadata": {},
   "outputs": [
    {
     "name": "stdout",
     "output_type": "stream",
     "text": [
      "DIE: C:\\Users\\chienchi\\OneDrive - Intel Corporation\\Documents\\PyCodes\\DB\\profile\\Ly_exp\\Arr_0509\\9-9\\ThermalProfile_DIE.txt, Design Area: [-45.0, -45.0, 45.0, 45.0]\n",
      "Max T within DIE: 70.108\n",
      "Min T within DIE: 55.923\n",
      "DIE: C:\\Users\\chienchi\\OneDrive - Intel Corporation\\Documents\\PyCodes\\DB\\profile\\Ly_exp\\Arr_0509\\9-9\\ThermalProfile_DIE_1.txt, Design Area: [-45.0, -45.0, 45.0, 45.0]\n",
      "Max T within DIE: 70.344\n",
      "Min T within DIE: 56.0\n"
     ]
    },
    {
     "data": {
      "application/vnd.jupyter.widget-view+json": {
       "model_id": "cdace8ffa1d742cc8c4999fe561b9bab",
       "version_major": 2,
       "version_minor": 0
      },
      "text/plain": [
       "HBox(children=(FloatText(value=70.344, description='T Upperbound:', style=DescriptionStyle(description_width='…"
      ]
     },
     "execution_count": 51,
     "metadata": {},
     "output_type": "execute_result"
    }
   ],
   "source": [
    "import importlib\n",
    "importlib.reload(RHSCETparser)\n",
    "\n",
    "### Processing loaded thermal profiles ###\n",
    "profileDict = {}\n",
    "validProfiles = []\n",
    "TMax, TMin = -100000, 100000\n",
    "for p in TProfileList:\n",
    "    profilePath = p[0]\n",
    "    if os.path.isfile(profilePath):\n",
    "        profileDict.setdefault(profilePath, {\"OBJ\":None,\"PLOT\":{\"selected\":[]}})\n",
    "        validProfiles.append(profilePath)\n",
    "        profileDict[profilePath][\"OBJ\"] = RHSCETparser.RHSCETView(profilePath, outputFolder=caseFolder)\n",
    "    else:\n",
    "        print(\"<ERROR> profile path not found\")\n",
    "        continue\n",
    "\n",
    "    ### output DIE profile information ###\n",
    "    TP = profileDict[profilePath][\"OBJ\"]\n",
    "    print(\"DIE: {}, Design Area: {}\".format(profilePath, [TP.llx, TP.lly, TP.urx, TP.ury]))\n",
    "    #print(\"Available Layers: {}\".format(TP.layerList))\n",
    "    print(\"Max T within DIE: {}\".format(TP.DIEMaxT))\n",
    "    print(\"Min T within DIE: {}\".format(TP.DIEMinT))\n",
    "\n",
    "    if TMax < TP.DIEMaxT:\n",
    "        TMax = TP.DIEMaxT\n",
    "    if TMin > TP.DIEMinT:\n",
    "        TMin = TP.DIEMinT\n",
    "\n",
    "T_Upperbound = widgets.FloatText(value=TMax, description=\"T Upperbound:\", \\\n",
    "                                 style={\"description_width\": \"initial\"}, disabled=False)\n",
    "T_Lowerbound = widgets.FloatText(value=TMin, description=\"T Lowerbound:\", \\\n",
    "                                 style={\"description_width\": \"initial\"}, disabled=False)\n",
    "HBox([T_Upperbound, T_Lowerbound])"
   ]
  },
  {
   "cell_type": "code",
   "execution_count": 52,
   "id": "464db133-12e4-4ff1-8c4b-b076d38d3a0a",
   "metadata": {},
   "outputs": [
    {
     "data": {
      "application/vnd.jupyter.widget-view+json": {
       "model_id": "196e2dfc1472412b9cfc70085d53fcd2",
       "version_major": 2,
       "version_minor": 0
      },
      "text/plain": [
       "VBox(children=(VBox(children=(Label(value='C:\\\\Users\\\\chienchi\\\\OneDrive - Intel Corporation\\\\Documents\\\\PyCod…"
      ]
     },
     "execution_count": 52,
     "metadata": {},
     "output_type": "execute_result"
    }
   ],
   "source": [
    "### Select profiles for displayment ###\n",
    "_layout = []\n",
    "for p in validProfiles:\n",
    "    layerlist = profileDict[p][\"OBJ\"].layerList\n",
    "    ui = UIdisplay.askDropItems2Processing(\"{}\".format(p), layerlist, profileDict[p][\"PLOT\"][\"selected\"])\n",
    "    _layout.append(ui)\n",
    "\n",
    "isColorBar = widgets.Checkbox(value=False, description=\"with Colorbar?\",\\\n",
    "                              style={\"description_width\": \"initial\"}, disabled=False)\n",
    "_layout.append(isColorBar)\n",
    "VBox(_layout)"
   ]
  },
  {
   "cell_type": "code",
   "execution_count": 53,
   "id": "75a66916-5f9c-475d-9f03-2e29c06b7ea1",
   "metadata": {},
   "outputs": [
    {
     "name": "stdout",
     "output_type": "stream",
     "text": [
      "C:\\Users\\chienchi\\OneDrive - Intel Corporation\\Documents\\PyCodes\\Thermal\\RHSC_ET\\RESULTs\\TEST_org\\TProfile_DIE1_NPTAB.png\n",
      "C:\\Users\\chienchi\\OneDrive - Intel Corporation\\Documents\\PyCodes\\Thermal\\RHSC_ET\\RESULTs\\TEST_org\\TProfile_DIE2_NPTAB.png\n"
     ]
    }
   ],
   "source": [
    "### Plot the selected profiles ###\n",
    "import importlib\n",
    "importlib.reload(RHSCETparser)\n",
    "\n",
    "imgList = []\n",
    "for i, p in enumerate(validProfiles):\n",
    "    profileObj = profileDict[p][\"OBJ\"]\n",
    "    nickName = \"DIE{}\".format(str(i+1))\n",
    "    for ly in profileDict[p][\"PLOT\"][\"selected\"]:\n",
    "        imgPath = profileObj.plot(dieName=nickName, selectedLayer=ly,\n",
    "                                  min_val=T_Lowerbound.value, max_val=T_Upperbound.value, withColorBar=isColorBar.value,\n",
    "                                  saveImg=\"TProfile_{}_{}.png\".format(nickName, ly), isShow=False)\n",
    "        print(imgPath)\n",
    "        imgList.append(imgPath)"
   ]
  },
  {
   "cell_type": "code",
   "execution_count": 54,
   "id": "18542f6f-0485-4a2f-ae23-3ae413cc6138",
   "metadata": {},
   "outputs": [
    {
     "data": {
      "application/vnd.jupyter.widget-view+json": {
       "model_id": "9d21f6857c574781b4f010f944dd9f11",
       "version_major": 2,
       "version_minor": 0
      },
      "text/plain": [
       "HBox(children=(IntText(value=1, description='Grid X:', layout=Layout(width='100px'), style=DescriptionStyle(de…"
      ]
     },
     "execution_count": 54,
     "metadata": {},
     "output_type": "execute_result"
    }
   ],
   "source": [
    "gridX = widgets.IntText(value=1, description=\"Grid X:\", style={\"description_width\": \"initial\"}, \n",
    "                        layout=widgets.Layout(width=\"100px\"), disabled=False)\n",
    "gridY = widgets.IntText(value=2, description=\"Grid Y:\", style={\"description_width\": \"initial\"}, \n",
    "                        layout=widgets.Layout(width=\"100px\"), disabled=False)\n",
    "gridImgName = widgets.Text(value=\"merge.png\", description=\"Save Name:\", \\\n",
    "                           style={\"description_width\": \"initial\"}, disabled=False)\n",
    "isShowImg = widgets.Checkbox(value=False, description=\"Show Image\",\\\n",
    "                             style={\"description_width\": \"initial\"}, disabled=False)\n",
    "HBox([gridX, gridY, gridImgName, isShowImg])"
   ]
  },
  {
   "cell_type": "code",
   "execution_count": 56,
   "id": "4c0382d8-0a9e-48f0-8d71-d9ba2761de17",
   "metadata": {},
   "outputs": [
    {
     "name": "stdout",
     "output_type": "stream",
     "text": [
      "save image: C:\\Users\\chienchi\\OneDrive - Intel Corporation\\Documents\\PyCodes\\Thermal\\RHSC_ET\\RESULTs\\TEST_org\\merge.png\n"
     ]
    }
   ],
   "source": [
    "import importlib\n",
    "importlib.reload(utilities)\n",
    "\n",
    "utilities.saveGridImagesWithCBar(XX=gridX.value, YY=gridY.value, vmin=T_Lowerbound.value, vmax=T_Upperbound.value, \\\n",
    "                                 imgList=imgList, caseFolder=caseFolder, imgName=gridImgName.value, \\\n",
    "                                 isShowImg=isShowImg.value)\n"
   ]
  },
  {
   "cell_type": "code",
   "execution_count": null,
   "id": "5aa28b41-885f-4a03-a185-fe076ee76bfa",
   "metadata": {},
   "outputs": [],
   "source": []
  },
  {
   "cell_type": "markdown",
   "id": "50f9197e-64e6-4062-8ecc-f1ecaee4b6a0",
   "metadata": {},
   "source": [
    "## UT2: Thermal/Power Correlation Analysis ##"
   ]
  },
  {
   "cell_type": "code",
   "execution_count": 4,
   "id": "b7da7e69-c96f-4bd5-ac92-1fbe55b058a5",
   "metadata": {},
   "outputs": [
    {
     "data": {
      "application/vnd.jupyter.widget-view+json": {
       "model_id": "2eb752bfa6b84241ab1f9d69953021ea",
       "version_major": 2,
       "version_minor": 0
      },
      "text/plain": [
       "VBox(children=(HBox(children=(Text(value='DIE', description='DIE Name:'), IntText(value=1, description='CTM Re…"
      ]
     },
     "metadata": {},
     "output_type": "display_data"
    }
   ],
   "source": [
    "DIEDict = {}\n",
    "\n",
    "### select the thermal profiles ###\n",
    "DIEDict[\"name\"] = widgets.Text(value=\"DIE\", description=\"DIE Name:\", disabled=False)\n",
    "DIEDict[\"resolution\"] = widgets.IntText(value=1, description=\"CTM Resolution:\", style={\"description_width\": \"initial\"}, disabled=False)\n",
    "DIEDict[\"profilePath\"] = FileChooser(\"./\")\n",
    "DIEDict[\"powermapPath\"] = FileChooser(\"./\")\n",
    "_HB1 = HBox([DIEDict[\"name\"], DIEDict[\"resolution\"]])\n",
    "_HB2 = HBox([Label(\"Thermal Profile :\"), DIEDict[\"profilePath\"]])\n",
    "_HB3 = HBox([Label(\"ET_MHS Power File:\"), DIEDict[\"powermapPath\"]])\n",
    "display(VBox([_HB1, _HB2, _HB3]))"
   ]
  },
  {
   "cell_type": "code",
   "execution_count": 16,
   "id": "7b3ea6ba-6df8-4899-b711-c2321dca8e8b",
   "metadata": {},
   "outputs": [
    {
     "name": "stdout",
     "output_type": "stream",
     "text": [
      "DIE: DIE, Design Area: [-45.0, -45.0, 45.0, 45.0]\n",
      "Available Layers: ['BM4', 'BV3', 'BM3', 'BV2', 'BM2', 'BV1', 'BM1', 'BV0', 'BM0', 'TSV', 'POD', 'NOD', 'NPTAB', 'M0', 'VIA0', 'M1', 'VIA1', 'M2', 'VIA2', 'M3', 'VIA3', 'M4', 'VIA4', 'M5', 'VIA5', 'M6', 'VIA6', 'M7', 'VIA7', 'M8', 'VIA8', 'M9', 'VIA9', 'M10', 'VIA10', 'M11']\n",
      "Max T within DIE: 188.418\n",
      "Min T within DIE: 171.726\n"
     ]
    }
   ],
   "source": [
    "## Parsing ET thermal profile ##\n",
    "import importlib\n",
    "importlib.reload(RHSCETparser)\n",
    "\n",
    "profilePath = DIEDict[\"profilePath\"].selected\n",
    "if os.path.isfile(profilePath):\n",
    "    DIEDict[\"RHSCET\"] = RHSCETparser.RHSCETView(profilePath, outputFolder=caseFolder)\n",
    "else:\n",
    "    print(\"<ERROR> profile path not found\")\n",
    "\n",
    "### output DIE profile information ###\n",
    "DIE = DIEDict[\"RHSCET\"]\n",
    "print(\"DIE: {}, Design Area: {}\".format(DIEDict[\"name\"].value, [DIE.llx, DIE.lly, DIE.urx, DIE.ury]))\n",
    "print(\"Available Layers: {}\".format(DIE.layerList))\n",
    "print(\"Max T within DIE: {}\".format(DIE.DIEMaxT))\n",
    "print(\"Min T within DIE: {}\".format(DIE.DIEMinT))"
   ]
  },
  {
   "cell_type": "code",
   "execution_count": 17,
   "id": "21af8fd9-a837-490e-aed4-c5c806823c2b",
   "metadata": {},
   "outputs": [
    {
     "name": "stdout",
     "output_type": "stream",
     "text": [
      "<INFO> Instances Area:-45.0,-45.0,45.0,45.0; Total PWR=12.000mW\n"
     ]
    },
    {
     "data": {
      "application/vnd.jupyter.widget-view+json": {
       "model_id": "a83b71e00b27442eb41c29092e892bd5",
       "version_major": 2,
       "version_minor": 0
      },
      "text/plain": [
       "HBox(children=(Text(value='TilePwr_10um.png', description='Tile Power Image Name:', style=TextStyle(descriptio…"
      ]
     },
     "execution_count": 17,
     "metadata": {},
     "output_type": "execute_result"
    }
   ],
   "source": [
    "## Translate input power map to tile-based power map ##\n",
    "import importlib\n",
    "importlib.reload(FCpowermap)\n",
    "\n",
    "pwrPath = DIEDict[\"powermapPath\"].selected\n",
    "if os.path.isfile(pwrPath):\n",
    "    resolution = DIEDict[\"resolution\"].value\n",
    "    DIEDict[\"ETMHS\"] = FCpowermap.FCPowerView(pwrPath, \"ETMHS\", outputFolder=caseFolder)\n",
    "    DIEDict[\"ETMHS\"].translate2TilePwr(resolution=resolution)\n",
    "else:\n",
    "    print(\"<ERROR> power map path not found\")\n",
    "\n",
    "TPimgName = widgets.Text(value=\"TilePwr_{}um.png\".format(str(resolution)), description=\"Tile Power Image Name:\", \\\n",
    "                         style={\"description_width\": \"initial\"}, disabled=False)\n",
    "isShowTilePwrImg = widgets.Checkbox(value=False, description=\"Show Tile-based power map\",\\\n",
    "                                    style={\"description_width\": \"initial\"}, disabled=False)\n",
    "HBox([TPimgName, isShowTilePwrImg])\n",
    "#DIEDict[\"ETMHS\"].plot(ptype=[\"TILE\", resolution], saveImg=\"TilePwr_{}um.png\".format(str(resolution)))"
   ]
  },
  {
   "cell_type": "code",
   "execution_count": 18,
   "id": "406b1260-53d3-4fe8-bb4c-1acd8d4c076e",
   "metadata": {},
   "outputs": [],
   "source": [
    "## generate tile-based power image ##\n",
    "TPimgPath = DIEDict[\"ETMHS\"].plot(ptype=[\"TILE\", resolution], saveImg=TPimgName.value)\n",
    "\n",
    "if isShowTilePwrImg.value:\n",
    "    utilities.viewImg(TPimgPath)"
   ]
  },
  {
   "cell_type": "code",
   "execution_count": 13,
   "id": "98d5fad3-9070-42d1-84f3-9a3ca999fbdf",
   "metadata": {},
   "outputs": [
    {
     "data": {
      "application/vnd.jupyter.widget-view+json": {
       "model_id": "d86bcaeec7a3467ba803ebf75c960b5b",
       "version_major": 2,
       "version_minor": 0
      },
      "text/plain": [
       "Dropdown(description='Layers:', options=('BM4', 'BV3', 'BM3', 'BV2', 'BM2', 'BV1', 'BM1', 'BV0', 'BM0', 'TSV',…"
      ]
     },
     "metadata": {},
     "output_type": "display_data"
    }
   ],
   "source": [
    "### Select the layer of thermal profile to process the negative Laplacian transform ###\n",
    "layer_dropdown = widgets.Dropdown(options=DIEDict[\"RHSCET\"].layerList, description=\"Layers:\", \n",
    "                                  style={\"description_width\": \"initial\"})\n",
    "display(layer_dropdown)"
   ]
  },
  {
   "cell_type": "code",
   "execution_count": 19,
   "id": "5f7fabe2-86af-43c5-a781-edc13d3f9b5c",
   "metadata": {},
   "outputs": [
    {
     "name": "stdout",
     "output_type": "stream",
     "text": [
      "Min Grad: -1.389, Max Grad: 10.846, Sum: 0.0, R: 0.74\n"
     ]
    }
   ],
   "source": [
    "from setups import thermalAnalysis\n",
    "\n",
    "import importlib\n",
    "importlib.reload(thermalAnalysis)\n",
    "\n",
    "ly = layer_dropdown.value\n",
    "thermalCorr = thermalAnalysis.powerThermalAnalysis(DIEDict[\"ETMHS\"], DIEDict[\"RHSCET\"], \\\n",
    "                                                   resolution=resolution, outputFolder=caseFolder)\n",
    "thermalCorr.calNegLaplacianOperator(layer=ly)\n",
    "thermalCorr.gradPlot(layer=ly, saveImg=\"grad_{}_{}_{}um.png\".format(DIEDict[\"name\"].value, ly, str(DIEDict[\"resolution\"].value)))\n",
    "thermalCorr.outputCorrDict(layer=ly)\n",
    "\n",
    "#layer = \"NPTAB\"\n",
    "#thermalCorr = thermalAnalysis.powerThermalAnalysis(DIEDict[\"ETMHS\"], DIEDict[\"RHSCET\"], resolution=DIEDict[\"resolution\"].value)\n",
    "#thermalCorr.calNegLaplacianOperator(layer=layer)\n",
    "#thermalCorr.plot(saveImg=\"grad{}_{}um.png\".format(layer, str(DIEDict[\"resolution\"].value)))\n",
    "\n",
    "#thermalCorr.calProfileCorr(layer=\"NPTAB\", unit=5)\n",
    "#thermalCorr.plot()"
   ]
  },
  {
   "cell_type": "code",
   "execution_count": null,
   "id": "1869bf72-beac-445d-bea4-6774a7e5c31a",
   "metadata": {},
   "outputs": [],
   "source": []
  },
  {
   "cell_type": "code",
   "execution_count": 25,
   "id": "b93e1681-8275-4cfa-a66f-c845148bfd9e",
   "metadata": {},
   "outputs": [
    {
     "data": {
      "application/vnd.jupyter.widget-view+json": {
       "model_id": "39a06a7b2ac44baa96ccc42144b82726",
       "version_major": 2,
       "version_minor": 0
      },
      "text/plain": [
       "VBox(children=(Label(value='DIE'), HBox(children=(Dropdown(description='Layers:', options=('BM4', 'BV3', 'BM3'…"
      ]
     },
     "metadata": {},
     "output_type": "display_data"
    }
   ],
   "source": [
    "import importlib\n",
    "importlib.reload(RHSCETparser)\n",
    "importlib.reload(UIdisplay)\n",
    "\n",
    "for i in DIEDict.keys():\n",
    "    DIEDict[i][\"layerList\"] = []\n",
    "    title = DIEDict[i][\"name\"].value\n",
    "    out = UIdisplay.askDropItems2Processing(title=title, layerList=DIEDict[i][\"RHSCET\"].layerList, \\\n",
    "                                            layerQ=DIEDict[i][\"layerList\"])\n",
    "    display(out)\n",
    "\n",
    "#layerQ = []\n",
    "#out = UIdisplay.askLayers2Processing(TD1.layerList, layerQ)\n",
    "#display(out)\n",
    "\n",
    "#file = open(\"./MEOL.png\", \"rb\")\n",
    "#img = file.read()\n",
    "#widgets.Image(value=img, format=\"png\", width=400, height=400)"
   ]
  },
  {
   "cell_type": "code",
   "execution_count": 29,
   "id": "2e90b561-dcf9-4e16-b907-ffbcb9c14ae4",
   "metadata": {},
   "outputs": [],
   "source": [
    "T_Max = T_Upperbound.value\n",
    "\n",
    "for i in DIEDict.keys():\n",
    "    name = DIEDict[i][\"name\"].value\n",
    "    DIE = DIEDict[i][\"RHSCET\"]\n",
    "    layers = list(set(DIEDict[i][\"layerList\"]))\n",
    "    for ly in layers:\n",
    "        #hots = TD1.getTopNHotSpots(selectedLayer=ly)\n",
    "        hots = []\n",
    "        saveImgName = \"{}_{}.png\".format(name, ly)\n",
    "        DIE.plot(dieName=name, selectedLayer=ly, max_val=T_Max, highlighted=hots, saveImg=saveImgName)\n",
    "\n",
    "\n",
    "#layerQ = list(set(layerQ))\n",
    "#print(layerQ)"
   ]
  },
  {
   "cell_type": "code",
   "execution_count": null,
   "id": "801d526c-bac9-4811-abf9-2d084e1635c2",
   "metadata": {},
   "outputs": [],
   "source": []
  }
 ],
 "metadata": {
  "kernelspec": {
   "display_name": "Python 3 (ipykernel)",
   "language": "python",
   "name": "python3"
  },
  "language_info": {
   "codemirror_mode": {
    "name": "ipython",
    "version": 3
   },
   "file_extension": ".py",
   "mimetype": "text/x-python",
   "name": "python",
   "nbconvert_exporter": "python",
   "pygments_lexer": "ipython3",
   "version": "3.8.18"
  }
 },
 "nbformat": 4,
 "nbformat_minor": 5
}
